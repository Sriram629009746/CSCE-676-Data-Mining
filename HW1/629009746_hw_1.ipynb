{
  "nbformat": 4,
  "nbformat_minor": 0,
  "metadata": {
    "colab": {
      "name": "629009746_hw_1.ipynb",
      "provenance": [],
      "collapsed_sections": []
    },
    "kernelspec": {
      "name": "python3",
      "display_name": "Python 3"
    },
    "language_info": {
      "name": "python"
    }
  },
  "cells": [
    {
      "cell_type": "markdown",
      "source": [
        "## CSCE 676 :: Data Mining and Analysis :: Texas A&M University :: Spring 2022\n",
        "\n",
        "\n",
        "# Homework 1: Let's GOOOOO!\n",
        "\n",
        "- **100 points [7% of your final grade]**\n",
        "- **Due Tuesday, February 13 by 11:59pm**\n",
        "\n",
        "***Goals of this homework:***\n",
        "1. Collect data from the web, clean it, and then make some observations based on exploratory data analysis\n",
        "2. Understand and implement the classic apriori algorithm and extensions to find the association rules in a movie rating dataset\n",
        "\n",
        "***Submission instructions:***\n",
        "\n",
        "You should post your notebook to Canvas (look for the homework 1 assignment there). Please name your submission **your-uin_hw1.ipynb**, so for example, my submission would be something like **555001234_hw1.ipynb**. Your notebook should be fully executed when you submit ... so run all the cells for us so we can see the output, then submit that. \n",
        "\n",
        "***Late Days:***\n",
        "\n",
        "As a reminder, you may use up to three of your late days on this homework, meaning the latest we will accept it is February 16 by 11:59pm.\n",
        "\n",
        "***Collaboration declaration:***\n",
        "\n",
        "If you worked with someone on this homework, please be sure to mention that. Remember to include citations to any sources you use in the homework."
      ],
      "metadata": {
        "id": "Ak3SqhmRDYKW"
      }
    },
    {
      "cell_type": "code",
      "source": [
        ""
      ],
      "metadata": {
        "id": "KCvhRTPM3DZz"
      },
      "execution_count": null,
      "outputs": []
    },
    {
      "cell_type": "markdown",
      "source": [
        "## (50 points) Part 1: UFOs"
      ],
      "metadata": {
        "id": "iiUzZn-6Ecs8"
      }
    },
    {
      "cell_type": "markdown",
      "source": [
        "### (10pts) Part 1a: UFOs are Out There, But First I Need to Store them Locally\n",
        "\n",
        "For this first part, we're going to collect evidence of UFO sightings from the **National UFO Reporting Center**. Specifically, we're going \n",
        "to focus only on UFO sightings in Texas, as reported at this webpage:\n",
        "\n",
        "* http://www.nuforc.org/webreports/ndxlTX.html\n",
        "\n",
        "Recall that you can view the source of a webpage in Chrome under View &rarr; Developer &rarr; View Source. \n",
        "You'll notice, however, that this raw HTML is not in our friendly csv format and so will require some initial pre-processing. \n",
        "In particular, we're going to use the Python libraries **[requests](http://docs.python-requests.org/en/master/)** \n",
        "and **[beautiful soup](https://www.crummy.com/software/BeautifulSoup/)** to convert this UFO data from its original HTML format into csv. \n",
        "\n",
        "Hints:\n",
        "* You'll notice that the column headers are in the `<TH>` tags.\n",
        "* The values are in the `<TD>` tags.\n",
        "* In beautiful soup, something like `.find_all('td')` may help you.\n",
        "* To write the csv, you might want to `import csv` and take a look at the functions provided.\n",
        "* If you google for \"beautifulsoup table to csv\" you should find some nice starting points.  Note, however, that you may not use an existing method that auto-magically converts the HTML into csv; we expect you to write your own code. If you borrow some elements from online resources, you should cite them in the comments. "
      ],
      "metadata": {
        "id": "oHXUGi-gm88u"
      }
    },
    {
      "cell_type": "code",
      "source": [
        "# your code here\n",
        "# you should use requests to get the webpage, then extract \n",
        "import requests\n",
        "import csv\n",
        "from bs4 import BeautifulSoup\n",
        "import pandas as pd\n",
        "\n",
        "\n",
        "# the appropriate column headings and rows\n",
        "# then write this out to csv to a local file called 'ufos_in_texas.csv'"
      ],
      "metadata": {
        "id": "R7e6aYoQEYTT"
      },
      "execution_count": 1,
      "outputs": []
    },
    {
      "cell_type": "code",
      "source": [
        "html_text = requests.get('http://www.nuforc.org/webreports/ndxlTX.html').text\n",
        "soup = BeautifulSoup(html_text, 'html5lib')\n",
        "headers = soup.find('tr')\n",
        "col_names = []\n",
        "for hdr in headers.find_all('th'):\n",
        "  col_names.append(hdr.text)\n",
        "\n",
        "csv_file = open('ufos_in_texas.csv','w')\n",
        "\n",
        "csv_writer = csv.writer(csv_file)\n",
        "csv_writer.writerow(col_names)\n",
        "\n",
        "for row_item in soup.find('tbody').find_all('tr'):\n",
        "  row_values = []\n",
        "  for row in row_item.find_all('td'):\n",
        "    row_values.append(row.text)\n",
        "  csv_writer.writerow(row_values)\n",
        "\n",
        "csv_file.close()"
      ],
      "metadata": {
        "id": "y_2J2Akfxwf4"
      },
      "execution_count": 2,
      "outputs": []
    },
    {
      "cell_type": "markdown",
      "source": [
        "Once you have your local csv file, you should read it in and then issue the .head() command."
      ],
      "metadata": {
        "id": "BfQTWXRfnEZN"
      }
    },
    {
      "cell_type": "code",
      "source": [
        "# your code here\n",
        "df = pd.read_csv('ufos_in_texas.csv')\n",
        "test = df.head()\n",
        "num_rows_original = df.shape[0]\n",
        "df.head()\n"
      ],
      "metadata": {
        "id": "lGjL27fsnEIu",
        "colab": {
          "base_uri": "https://localhost:8080/",
          "height": 206
        },
        "outputId": "ce29b2da-167e-47c1-9ca0-c28cbc3d7c21"
      },
      "execution_count": 3,
      "outputs": [
        {
          "output_type": "execute_result",
          "data": {
            "text/html": [
              "\n",
              "  <div id=\"df-7c923188-f70a-4b83-af39-b8ebd1b0c8a6\">\n",
              "    <div class=\"colab-df-container\">\n",
              "      <div>\n",
              "<style scoped>\n",
              "    .dataframe tbody tr th:only-of-type {\n",
              "        vertical-align: middle;\n",
              "    }\n",
              "\n",
              "    .dataframe tbody tr th {\n",
              "        vertical-align: top;\n",
              "    }\n",
              "\n",
              "    .dataframe thead th {\n",
              "        text-align: right;\n",
              "    }\n",
              "</style>\n",
              "<table border=\"1\" class=\"dataframe\">\n",
              "  <thead>\n",
              "    <tr style=\"text-align: right;\">\n",
              "      <th></th>\n",
              "      <th>Date / Time</th>\n",
              "      <th>City</th>\n",
              "      <th>State</th>\n",
              "      <th>Shape</th>\n",
              "      <th>Duration</th>\n",
              "      <th>Summary</th>\n",
              "      <th>Posted</th>\n",
              "    </tr>\n",
              "  </thead>\n",
              "  <tbody>\n",
              "    <tr>\n",
              "      <th>0</th>\n",
              "      <td>12/14/21 22:30</td>\n",
              "      <td>Dallas</td>\n",
              "      <td>TX</td>\n",
              "      <td>Formation</td>\n",
              "      <td>8 minutes</td>\n",
              "      <td>It was loud like rocket in a V shape.</td>\n",
              "      <td>12/19/21</td>\n",
              "    </tr>\n",
              "    <tr>\n",
              "      <th>1</th>\n",
              "      <td>12/12/21 17:30</td>\n",
              "      <td>Dallas</td>\n",
              "      <td>TX</td>\n",
              "      <td>Light</td>\n",
              "      <td>10 minutes</td>\n",
              "      <td>A light that was fading in and out.</td>\n",
              "      <td>12/19/21</td>\n",
              "    </tr>\n",
              "    <tr>\n",
              "      <th>2</th>\n",
              "      <td>12/9/21 16:30</td>\n",
              "      <td>Lazerbet</td>\n",
              "      <td>TX</td>\n",
              "      <td>Other</td>\n",
              "      <td>Google maping</td>\n",
              "      <td>It's big</td>\n",
              "      <td>12/19/21</td>\n",
              "    </tr>\n",
              "    <tr>\n",
              "      <th>3</th>\n",
              "      <td>12/9/21 16:00</td>\n",
              "      <td>Lazerbet</td>\n",
              "      <td>TX</td>\n",
              "      <td>Triangle</td>\n",
              "      <td>NaN</td>\n",
              "      <td>Unhuman</td>\n",
              "      <td>12/19/21</td>\n",
              "    </tr>\n",
              "    <tr>\n",
              "      <th>4</th>\n",
              "      <td>12/7/21 17:30</td>\n",
              "      <td>Oak Cliff</td>\n",
              "      <td>TX</td>\n",
              "      <td>Unknown</td>\n",
              "      <td>NaN</td>\n",
              "      <td>I was randomly taking pictures of the clouds a...</td>\n",
              "      <td>12/19/21</td>\n",
              "    </tr>\n",
              "  </tbody>\n",
              "</table>\n",
              "</div>\n",
              "      <button class=\"colab-df-convert\" onclick=\"convertToInteractive('df-7c923188-f70a-4b83-af39-b8ebd1b0c8a6')\"\n",
              "              title=\"Convert this dataframe to an interactive table.\"\n",
              "              style=\"display:none;\">\n",
              "        \n",
              "  <svg xmlns=\"http://www.w3.org/2000/svg\" height=\"24px\"viewBox=\"0 0 24 24\"\n",
              "       width=\"24px\">\n",
              "    <path d=\"M0 0h24v24H0V0z\" fill=\"none\"/>\n",
              "    <path d=\"M18.56 5.44l.94 2.06.94-2.06 2.06-.94-2.06-.94-.94-2.06-.94 2.06-2.06.94zm-11 1L8.5 8.5l.94-2.06 2.06-.94-2.06-.94L8.5 2.5l-.94 2.06-2.06.94zm10 10l.94 2.06.94-2.06 2.06-.94-2.06-.94-.94-2.06-.94 2.06-2.06.94z\"/><path d=\"M17.41 7.96l-1.37-1.37c-.4-.4-.92-.59-1.43-.59-.52 0-1.04.2-1.43.59L10.3 9.45l-7.72 7.72c-.78.78-.78 2.05 0 2.83L4 21.41c.39.39.9.59 1.41.59.51 0 1.02-.2 1.41-.59l7.78-7.78 2.81-2.81c.8-.78.8-2.07 0-2.86zM5.41 20L4 18.59l7.72-7.72 1.47 1.35L5.41 20z\"/>\n",
              "  </svg>\n",
              "      </button>\n",
              "      \n",
              "  <style>\n",
              "    .colab-df-container {\n",
              "      display:flex;\n",
              "      flex-wrap:wrap;\n",
              "      gap: 12px;\n",
              "    }\n",
              "\n",
              "    .colab-df-convert {\n",
              "      background-color: #E8F0FE;\n",
              "      border: none;\n",
              "      border-radius: 50%;\n",
              "      cursor: pointer;\n",
              "      display: none;\n",
              "      fill: #1967D2;\n",
              "      height: 32px;\n",
              "      padding: 0 0 0 0;\n",
              "      width: 32px;\n",
              "    }\n",
              "\n",
              "    .colab-df-convert:hover {\n",
              "      background-color: #E2EBFA;\n",
              "      box-shadow: 0px 1px 2px rgba(60, 64, 67, 0.3), 0px 1px 3px 1px rgba(60, 64, 67, 0.15);\n",
              "      fill: #174EA6;\n",
              "    }\n",
              "\n",
              "    [theme=dark] .colab-df-convert {\n",
              "      background-color: #3B4455;\n",
              "      fill: #D2E3FC;\n",
              "    }\n",
              "\n",
              "    [theme=dark] .colab-df-convert:hover {\n",
              "      background-color: #434B5C;\n",
              "      box-shadow: 0px 1px 3px 1px rgba(0, 0, 0, 0.15);\n",
              "      filter: drop-shadow(0px 1px 2px rgba(0, 0, 0, 0.3));\n",
              "      fill: #FFFFFF;\n",
              "    }\n",
              "  </style>\n",
              "\n",
              "      <script>\n",
              "        const buttonEl =\n",
              "          document.querySelector('#df-7c923188-f70a-4b83-af39-b8ebd1b0c8a6 button.colab-df-convert');\n",
              "        buttonEl.style.display =\n",
              "          google.colab.kernel.accessAllowed ? 'block' : 'none';\n",
              "\n",
              "        async function convertToInteractive(key) {\n",
              "          const element = document.querySelector('#df-7c923188-f70a-4b83-af39-b8ebd1b0c8a6');\n",
              "          const dataTable =\n",
              "            await google.colab.kernel.invokeFunction('convertToInteractive',\n",
              "                                                     [key], {});\n",
              "          if (!dataTable) return;\n",
              "\n",
              "          const docLinkHtml = 'Like what you see? Visit the ' +\n",
              "            '<a target=\"_blank\" href=https://colab.research.google.com/notebooks/data_table.ipynb>data table notebook</a>'\n",
              "            + ' to learn more about interactive tables.';\n",
              "          element.innerHTML = '';\n",
              "          dataTable['output_type'] = 'display_data';\n",
              "          await google.colab.output.renderOutput(dataTable, element);\n",
              "          const docLink = document.createElement('div');\n",
              "          docLink.innerHTML = docLinkHtml;\n",
              "          element.appendChild(docLink);\n",
              "        }\n",
              "      </script>\n",
              "    </div>\n",
              "  </div>\n",
              "  "
            ],
            "text/plain": [
              "      Date / Time  ...    Posted\n",
              "0  12/14/21 22:30  ...  12/19/21\n",
              "1  12/12/21 17:30  ...  12/19/21\n",
              "2   12/9/21 16:30  ...  12/19/21\n",
              "3   12/9/21 16:00  ...  12/19/21\n",
              "4   12/7/21 17:30  ...  12/19/21\n",
              "\n",
              "[5 rows x 7 columns]"
            ]
          },
          "metadata": {},
          "execution_count": 3
        }
      ]
    },
    {
      "cell_type": "code",
      "source": [
        "df = df[df['Duration'].str.fullmatch('\\d+\\s(second|minute|hour|day)s?') == True]\n",
        "#df.to_csv('filtered_df.csv', index=False)\n",
        "df.head()"
      ],
      "metadata": {
        "colab": {
          "base_uri": "https://localhost:8080/",
          "height": 206
        },
        "id": "LqaQ3cFqzCSX",
        "outputId": "2779fb66-2582-4a39-d8a8-a4dddfecc551"
      },
      "execution_count": 4,
      "outputs": [
        {
          "output_type": "execute_result",
          "data": {
            "text/html": [
              "\n",
              "  <div id=\"df-bb549ef2-558f-4ed4-907c-a516eb9fac2e\">\n",
              "    <div class=\"colab-df-container\">\n",
              "      <div>\n",
              "<style scoped>\n",
              "    .dataframe tbody tr th:only-of-type {\n",
              "        vertical-align: middle;\n",
              "    }\n",
              "\n",
              "    .dataframe tbody tr th {\n",
              "        vertical-align: top;\n",
              "    }\n",
              "\n",
              "    .dataframe thead th {\n",
              "        text-align: right;\n",
              "    }\n",
              "</style>\n",
              "<table border=\"1\" class=\"dataframe\">\n",
              "  <thead>\n",
              "    <tr style=\"text-align: right;\">\n",
              "      <th></th>\n",
              "      <th>Date / Time</th>\n",
              "      <th>City</th>\n",
              "      <th>State</th>\n",
              "      <th>Shape</th>\n",
              "      <th>Duration</th>\n",
              "      <th>Summary</th>\n",
              "      <th>Posted</th>\n",
              "    </tr>\n",
              "  </thead>\n",
              "  <tbody>\n",
              "    <tr>\n",
              "      <th>0</th>\n",
              "      <td>12/14/21 22:30</td>\n",
              "      <td>Dallas</td>\n",
              "      <td>TX</td>\n",
              "      <td>Formation</td>\n",
              "      <td>8 minutes</td>\n",
              "      <td>It was loud like rocket in a V shape.</td>\n",
              "      <td>12/19/21</td>\n",
              "    </tr>\n",
              "    <tr>\n",
              "      <th>1</th>\n",
              "      <td>12/12/21 17:30</td>\n",
              "      <td>Dallas</td>\n",
              "      <td>TX</td>\n",
              "      <td>Light</td>\n",
              "      <td>10 minutes</td>\n",
              "      <td>A light that was fading in and out.</td>\n",
              "      <td>12/19/21</td>\n",
              "    </tr>\n",
              "    <tr>\n",
              "      <th>14</th>\n",
              "      <td>11/6/21 14:00</td>\n",
              "      <td>Abilene</td>\n",
              "      <td>TX</td>\n",
              "      <td>Changing</td>\n",
              "      <td>30 minutes</td>\n",
              "      <td>I was outside waiting on my ride, when a white...</td>\n",
              "      <td>11/15/21</td>\n",
              "    </tr>\n",
              "    <tr>\n",
              "      <th>16</th>\n",
              "      <td>10/25/21 17:18</td>\n",
              "      <td>Corpus Christi</td>\n",
              "      <td>TX</td>\n",
              "      <td>Other</td>\n",
              "      <td>40 minutes</td>\n",
              "      <td>Seven United States Postal workers in Corpus C...</td>\n",
              "      <td>10/26/21</td>\n",
              "    </tr>\n",
              "    <tr>\n",
              "      <th>18</th>\n",
              "      <td>10/23/21 03:30</td>\n",
              "      <td>Garland</td>\n",
              "      <td>TX</td>\n",
              "      <td>Light</td>\n",
              "      <td>7 hours</td>\n",
              "      <td>Early morning site &amp; short encounter</td>\n",
              "      <td>11/15/21</td>\n",
              "    </tr>\n",
              "  </tbody>\n",
              "</table>\n",
              "</div>\n",
              "      <button class=\"colab-df-convert\" onclick=\"convertToInteractive('df-bb549ef2-558f-4ed4-907c-a516eb9fac2e')\"\n",
              "              title=\"Convert this dataframe to an interactive table.\"\n",
              "              style=\"display:none;\">\n",
              "        \n",
              "  <svg xmlns=\"http://www.w3.org/2000/svg\" height=\"24px\"viewBox=\"0 0 24 24\"\n",
              "       width=\"24px\">\n",
              "    <path d=\"M0 0h24v24H0V0z\" fill=\"none\"/>\n",
              "    <path d=\"M18.56 5.44l.94 2.06.94-2.06 2.06-.94-2.06-.94-.94-2.06-.94 2.06-2.06.94zm-11 1L8.5 8.5l.94-2.06 2.06-.94-2.06-.94L8.5 2.5l-.94 2.06-2.06.94zm10 10l.94 2.06.94-2.06 2.06-.94-2.06-.94-.94-2.06-.94 2.06-2.06.94z\"/><path d=\"M17.41 7.96l-1.37-1.37c-.4-.4-.92-.59-1.43-.59-.52 0-1.04.2-1.43.59L10.3 9.45l-7.72 7.72c-.78.78-.78 2.05 0 2.83L4 21.41c.39.39.9.59 1.41.59.51 0 1.02-.2 1.41-.59l7.78-7.78 2.81-2.81c.8-.78.8-2.07 0-2.86zM5.41 20L4 18.59l7.72-7.72 1.47 1.35L5.41 20z\"/>\n",
              "  </svg>\n",
              "      </button>\n",
              "      \n",
              "  <style>\n",
              "    .colab-df-container {\n",
              "      display:flex;\n",
              "      flex-wrap:wrap;\n",
              "      gap: 12px;\n",
              "    }\n",
              "\n",
              "    .colab-df-convert {\n",
              "      background-color: #E8F0FE;\n",
              "      border: none;\n",
              "      border-radius: 50%;\n",
              "      cursor: pointer;\n",
              "      display: none;\n",
              "      fill: #1967D2;\n",
              "      height: 32px;\n",
              "      padding: 0 0 0 0;\n",
              "      width: 32px;\n",
              "    }\n",
              "\n",
              "    .colab-df-convert:hover {\n",
              "      background-color: #E2EBFA;\n",
              "      box-shadow: 0px 1px 2px rgba(60, 64, 67, 0.3), 0px 1px 3px 1px rgba(60, 64, 67, 0.15);\n",
              "      fill: #174EA6;\n",
              "    }\n",
              "\n",
              "    [theme=dark] .colab-df-convert {\n",
              "      background-color: #3B4455;\n",
              "      fill: #D2E3FC;\n",
              "    }\n",
              "\n",
              "    [theme=dark] .colab-df-convert:hover {\n",
              "      background-color: #434B5C;\n",
              "      box-shadow: 0px 1px 3px 1px rgba(0, 0, 0, 0.15);\n",
              "      filter: drop-shadow(0px 1px 2px rgba(0, 0, 0, 0.3));\n",
              "      fill: #FFFFFF;\n",
              "    }\n",
              "  </style>\n",
              "\n",
              "      <script>\n",
              "        const buttonEl =\n",
              "          document.querySelector('#df-bb549ef2-558f-4ed4-907c-a516eb9fac2e button.colab-df-convert');\n",
              "        buttonEl.style.display =\n",
              "          google.colab.kernel.accessAllowed ? 'block' : 'none';\n",
              "\n",
              "        async function convertToInteractive(key) {\n",
              "          const element = document.querySelector('#df-bb549ef2-558f-4ed4-907c-a516eb9fac2e');\n",
              "          const dataTable =\n",
              "            await google.colab.kernel.invokeFunction('convertToInteractive',\n",
              "                                                     [key], {});\n",
              "          if (!dataTable) return;\n",
              "\n",
              "          const docLinkHtml = 'Like what you see? Visit the ' +\n",
              "            '<a target=\"_blank\" href=https://colab.research.google.com/notebooks/data_table.ipynb>data table notebook</a>'\n",
              "            + ' to learn more about interactive tables.';\n",
              "          element.innerHTML = '';\n",
              "          dataTable['output_type'] = 'display_data';\n",
              "          await google.colab.output.renderOutput(dataTable, element);\n",
              "          const docLink = document.createElement('div');\n",
              "          docLink.innerHTML = docLinkHtml;\n",
              "          element.appendChild(docLink);\n",
              "        }\n",
              "      </script>\n",
              "    </div>\n",
              "  </div>\n",
              "  "
            ],
            "text/plain": [
              "       Date / Time  ...    Posted\n",
              "0   12/14/21 22:30  ...  12/19/21\n",
              "1   12/12/21 17:30  ...  12/19/21\n",
              "14   11/6/21 14:00  ...  11/15/21\n",
              "16  10/25/21 17:18  ...  10/26/21\n",
              "18  10/23/21 03:30  ...  11/15/21\n",
              "\n",
              "[5 rows x 7 columns]"
            ]
          },
          "metadata": {},
          "execution_count": 4
        }
      ]
    },
    {
      "cell_type": "markdown",
      "source": [
        "### (15pts) Part 1b: UFOs are a Mess! Time to Clean Up!\n",
        "\n",
        "Okay, now we move to the fun part -- making sense of this messy data. These UFO reports are user-generated with little input validation. As a result, you will notice lots of oddities. \n",
        "\n",
        "Let's begin by focusing on the **Duration** column. As a first pass, let's make a grossly simplifying assumption -- that the only valid data is any duration that is of the form:  \n",
        "\n",
        "* 1 second\n",
        "* 2 seconds\n",
        "* ...\n",
        "* 1 minute\n",
        "* 2 minutes\n",
        "* ...\n",
        "* 1 hour\n",
        "* 2 hours \n",
        "* ...\n",
        "* 1 day\n",
        "* 2 days \n",
        "* ...\n",
        "\n",
        "That is, we will only accept positive integers followed by a space, followed by a properly spelled unit. Every other entry is invalid. For example, that means these are all invalid durations:\n",
        "\n",
        "* 1s\n",
        "* 2 min.\n",
        "* 2-3 seconds\n",
        "* 10-15min\n",
        "* 1 minute+\n",
        "* 30 minutes and longer\n",
        "* about 1.5 minutes\n",
        "\n",
        "You may find the **pandas** library to be very helpful for this part. Create a new pandas dataframe that only includes sightings with these values, **where you convert all durations into seconds**. How many total rows are there in the original dataset? How many rows in your new 'validated' dataset? Report the basic statistics of the duration in your new 'validated' dataset (report maximum, minimum, mean, and standard deviation values of duration). At last, plot a boxplot of the duration (in seconds) in your 'validated' dataset."
      ],
      "metadata": {
        "id": "kCSVPkNOnYfI"
      }
    },
    {
      "cell_type": "code",
      "source": [
        "# your code here \n",
        "# filter our invalid durations\n",
        "# convert all valid durations to seconds\n",
        "\n",
        "df['Duration'].replace('( minute)s?', '*60 seconds', regex=True, inplace=True)\n",
        "df['Duration'].replace('( hour)s?', '*3600 seconds', regex=True, inplace=True)\n",
        "df['Duration'].replace('( day)s?', '*86400 seconds', regex=True, inplace=True)\n",
        "df['Duration'].replace('( second)s?', '*1', regex=True, inplace=True)\n",
        "\n",
        "#print(df.shape)\n",
        "\n",
        "\n",
        "inter_m=df['Duration'].str.split(\"*\",expand=True)\n",
        "inter_m[0] = pd.to_numeric(inter_m[0], errors='coerce')\n",
        "inter_m[1] = pd.to_numeric(inter_m[1], errors='coerce')\n",
        "\n",
        "df['Duration']=inter_m[0] * inter_m[1]\n",
        "\n",
        "df.to_csv('final.csv', index=False)\n",
        "num_rows_filtered = df.shape[0]\n",
        "df.head()\n",
        "\n",
        "\n"
      ],
      "metadata": {
        "id": "wMC-mq6wEnnY",
        "colab": {
          "base_uri": "https://localhost:8080/",
          "height": 206
        },
        "outputId": "37cf5479-11a8-4f36-8de0-bb93b2a98268"
      },
      "execution_count": 5,
      "outputs": [
        {
          "output_type": "execute_result",
          "data": {
            "text/html": [
              "\n",
              "  <div id=\"df-882cc0b1-a42d-4c8f-bea6-2c3e22d01c2a\">\n",
              "    <div class=\"colab-df-container\">\n",
              "      <div>\n",
              "<style scoped>\n",
              "    .dataframe tbody tr th:only-of-type {\n",
              "        vertical-align: middle;\n",
              "    }\n",
              "\n",
              "    .dataframe tbody tr th {\n",
              "        vertical-align: top;\n",
              "    }\n",
              "\n",
              "    .dataframe thead th {\n",
              "        text-align: right;\n",
              "    }\n",
              "</style>\n",
              "<table border=\"1\" class=\"dataframe\">\n",
              "  <thead>\n",
              "    <tr style=\"text-align: right;\">\n",
              "      <th></th>\n",
              "      <th>Date / Time</th>\n",
              "      <th>City</th>\n",
              "      <th>State</th>\n",
              "      <th>Shape</th>\n",
              "      <th>Duration</th>\n",
              "      <th>Summary</th>\n",
              "      <th>Posted</th>\n",
              "    </tr>\n",
              "  </thead>\n",
              "  <tbody>\n",
              "    <tr>\n",
              "      <th>0</th>\n",
              "      <td>12/14/21 22:30</td>\n",
              "      <td>Dallas</td>\n",
              "      <td>TX</td>\n",
              "      <td>Formation</td>\n",
              "      <td>480</td>\n",
              "      <td>It was loud like rocket in a V shape.</td>\n",
              "      <td>12/19/21</td>\n",
              "    </tr>\n",
              "    <tr>\n",
              "      <th>1</th>\n",
              "      <td>12/12/21 17:30</td>\n",
              "      <td>Dallas</td>\n",
              "      <td>TX</td>\n",
              "      <td>Light</td>\n",
              "      <td>600</td>\n",
              "      <td>A light that was fading in and out.</td>\n",
              "      <td>12/19/21</td>\n",
              "    </tr>\n",
              "    <tr>\n",
              "      <th>14</th>\n",
              "      <td>11/6/21 14:00</td>\n",
              "      <td>Abilene</td>\n",
              "      <td>TX</td>\n",
              "      <td>Changing</td>\n",
              "      <td>1800</td>\n",
              "      <td>I was outside waiting on my ride, when a white...</td>\n",
              "      <td>11/15/21</td>\n",
              "    </tr>\n",
              "    <tr>\n",
              "      <th>16</th>\n",
              "      <td>10/25/21 17:18</td>\n",
              "      <td>Corpus Christi</td>\n",
              "      <td>TX</td>\n",
              "      <td>Other</td>\n",
              "      <td>2400</td>\n",
              "      <td>Seven United States Postal workers in Corpus C...</td>\n",
              "      <td>10/26/21</td>\n",
              "    </tr>\n",
              "    <tr>\n",
              "      <th>18</th>\n",
              "      <td>10/23/21 03:30</td>\n",
              "      <td>Garland</td>\n",
              "      <td>TX</td>\n",
              "      <td>Light</td>\n",
              "      <td>25200</td>\n",
              "      <td>Early morning site &amp; short encounter</td>\n",
              "      <td>11/15/21</td>\n",
              "    </tr>\n",
              "  </tbody>\n",
              "</table>\n",
              "</div>\n",
              "      <button class=\"colab-df-convert\" onclick=\"convertToInteractive('df-882cc0b1-a42d-4c8f-bea6-2c3e22d01c2a')\"\n",
              "              title=\"Convert this dataframe to an interactive table.\"\n",
              "              style=\"display:none;\">\n",
              "        \n",
              "  <svg xmlns=\"http://www.w3.org/2000/svg\" height=\"24px\"viewBox=\"0 0 24 24\"\n",
              "       width=\"24px\">\n",
              "    <path d=\"M0 0h24v24H0V0z\" fill=\"none\"/>\n",
              "    <path d=\"M18.56 5.44l.94 2.06.94-2.06 2.06-.94-2.06-.94-.94-2.06-.94 2.06-2.06.94zm-11 1L8.5 8.5l.94-2.06 2.06-.94-2.06-.94L8.5 2.5l-.94 2.06-2.06.94zm10 10l.94 2.06.94-2.06 2.06-.94-2.06-.94-.94-2.06-.94 2.06-2.06.94z\"/><path d=\"M17.41 7.96l-1.37-1.37c-.4-.4-.92-.59-1.43-.59-.52 0-1.04.2-1.43.59L10.3 9.45l-7.72 7.72c-.78.78-.78 2.05 0 2.83L4 21.41c.39.39.9.59 1.41.59.51 0 1.02-.2 1.41-.59l7.78-7.78 2.81-2.81c.8-.78.8-2.07 0-2.86zM5.41 20L4 18.59l7.72-7.72 1.47 1.35L5.41 20z\"/>\n",
              "  </svg>\n",
              "      </button>\n",
              "      \n",
              "  <style>\n",
              "    .colab-df-container {\n",
              "      display:flex;\n",
              "      flex-wrap:wrap;\n",
              "      gap: 12px;\n",
              "    }\n",
              "\n",
              "    .colab-df-convert {\n",
              "      background-color: #E8F0FE;\n",
              "      border: none;\n",
              "      border-radius: 50%;\n",
              "      cursor: pointer;\n",
              "      display: none;\n",
              "      fill: #1967D2;\n",
              "      height: 32px;\n",
              "      padding: 0 0 0 0;\n",
              "      width: 32px;\n",
              "    }\n",
              "\n",
              "    .colab-df-convert:hover {\n",
              "      background-color: #E2EBFA;\n",
              "      box-shadow: 0px 1px 2px rgba(60, 64, 67, 0.3), 0px 1px 3px 1px rgba(60, 64, 67, 0.15);\n",
              "      fill: #174EA6;\n",
              "    }\n",
              "\n",
              "    [theme=dark] .colab-df-convert {\n",
              "      background-color: #3B4455;\n",
              "      fill: #D2E3FC;\n",
              "    }\n",
              "\n",
              "    [theme=dark] .colab-df-convert:hover {\n",
              "      background-color: #434B5C;\n",
              "      box-shadow: 0px 1px 3px 1px rgba(0, 0, 0, 0.15);\n",
              "      filter: drop-shadow(0px 1px 2px rgba(0, 0, 0, 0.3));\n",
              "      fill: #FFFFFF;\n",
              "    }\n",
              "  </style>\n",
              "\n",
              "      <script>\n",
              "        const buttonEl =\n",
              "          document.querySelector('#df-882cc0b1-a42d-4c8f-bea6-2c3e22d01c2a button.colab-df-convert');\n",
              "        buttonEl.style.display =\n",
              "          google.colab.kernel.accessAllowed ? 'block' : 'none';\n",
              "\n",
              "        async function convertToInteractive(key) {\n",
              "          const element = document.querySelector('#df-882cc0b1-a42d-4c8f-bea6-2c3e22d01c2a');\n",
              "          const dataTable =\n",
              "            await google.colab.kernel.invokeFunction('convertToInteractive',\n",
              "                                                     [key], {});\n",
              "          if (!dataTable) return;\n",
              "\n",
              "          const docLinkHtml = 'Like what you see? Visit the ' +\n",
              "            '<a target=\"_blank\" href=https://colab.research.google.com/notebooks/data_table.ipynb>data table notebook</a>'\n",
              "            + ' to learn more about interactive tables.';\n",
              "          element.innerHTML = '';\n",
              "          dataTable['output_type'] = 'display_data';\n",
              "          await google.colab.output.renderOutput(dataTable, element);\n",
              "          const docLink = document.createElement('div');\n",
              "          docLink.innerHTML = docLinkHtml;\n",
              "          element.appendChild(docLink);\n",
              "        }\n",
              "      </script>\n",
              "    </div>\n",
              "  </div>\n",
              "  "
            ],
            "text/plain": [
              "       Date / Time  ...    Posted\n",
              "0   12/14/21 22:30  ...  12/19/21\n",
              "1   12/12/21 17:30  ...  12/19/21\n",
              "14   11/6/21 14:00  ...  11/15/21\n",
              "16  10/25/21 17:18  ...  10/26/21\n",
              "18  10/23/21 03:30  ...  11/15/21\n",
              "\n",
              "[5 rows x 7 columns]"
            ]
          },
          "metadata": {},
          "execution_count": 5
        }
      ]
    },
    {
      "cell_type": "code",
      "source": [
        "# your code here\n",
        "# total rows in original dataset\n",
        "# valid rows in your new 'validated' dataset\n",
        "\n",
        "print(\"Total #rows in original dataset : {}\".format(num_rows_original))\n",
        "print(\"Total #rows in new 'validated' dataset : {}\".format(num_rows_filtered))"
      ],
      "metadata": {
        "id": "6Yio0HTHncIz",
        "colab": {
          "base_uri": "https://localhost:8080/"
        },
        "outputId": "c9a1412f-7ed3-4664-bb5a-30b57638ccb1"
      },
      "execution_count": 6,
      "outputs": [
        {
          "output_type": "stream",
          "name": "stdout",
          "text": [
            "Total #rows in original dataset : 5631\n",
            "Total #rows in new 'validated' dataset : 2817\n"
          ]
        }
      ]
    },
    {
      "cell_type": "code",
      "source": [
        "# your code here\n",
        "# report the basic statistics of duration in 'validated' dataset\n",
        "print(\"Max duration in the validated dataset : {}\".format(df['Duration'].max()))\n",
        "print(\"Min duration in the validated dataset : {}\".format(df['Duration'].min()))\n",
        "print(\"Mean duration in the validated dataset : {}\".format(df['Duration'].mean()))\n",
        "print(\"Std Deviation of  duration in the validated dataset : {}\".format(df['Duration'].std()))\n",
        "\n",
        "# boxplot code here\n",
        "df['Duration'].plot(kind='box',showfliers=True) #with outliers \n"
      ],
      "metadata": {
        "id": "5VSAJpk6nd6f",
        "colab": {
          "base_uri": "https://localhost:8080/",
          "height": 352
        },
        "outputId": "0a0bb5ba-3e94-4c08-a75d-1f3c228c7280"
      },
      "execution_count": 7,
      "outputs": [
        {
          "output_type": "stream",
          "name": "stdout",
          "text": [
            "Max duration in the validated dataset : 345600\n",
            "Min duration in the validated dataset : 1\n",
            "Mean duration in the validated dataset : 1290.827831025914\n",
            "Std Deviation of  duration in the validated dataset : 10850.471660312376\n"
          ]
        },
        {
          "output_type": "execute_result",
          "data": {
            "text/plain": [
              "<matplotlib.axes._subplots.AxesSubplot at 0x7f918d618650>"
            ]
          },
          "metadata": {},
          "execution_count": 7
        },
        {
          "output_type": "display_data",
          "data": {
            "image/png": "[encoded data removed]",
            "text/plain": [
              "<Figure size 432x288 with 1 Axes>"
            ]
          },
          "metadata": {
            "needs_background": "light"
          }
        }
      ]
    },
    {
      "cell_type": "code",
      "source": [
        "#df.boxplot(column='Duration')\n",
        "df['Duration'].plot(kind='box',showfliers=False) #with outliers"
      ],
      "metadata": {
        "colab": {
          "base_uri": "https://localhost:8080/",
          "height": 282
        },
        "id": "_X3IIe6rMRW4",
        "outputId": "d6bc3e46-5950-4b4b-b222-6d4f8c72fe47"
      },
      "execution_count": 8,
      "outputs": [
        {
          "output_type": "execute_result",
          "data": {
            "text/plain": [
              "<matplotlib.axes._subplots.AxesSubplot at 0x7f918d531cd0>"
            ]
          },
          "metadata": {},
          "execution_count": 8
        },
        {
          "output_type": "display_data",
          "data": {
            "image/png": "[encoded data removed]",
            "text/plain": [
              "<Figure size 432x288 with 1 Axes>"
            ]
          },
          "metadata": {
            "needs_background": "light"
          }
        }
      ]
    },
    {
      "cell_type": "markdown",
      "source": [
        "### (15pts) Part 1c: Can we do better?\n",
        "Interesting. But we threw away a **lot** of data. We can do better. For this part, you will do your best to clean up the durations from your original dataset. Keep in mind some initial guidelines:\n",
        "\n",
        "* If a duration has a range, use the average as its value. For example, if the duration is listed as “6-8 minutes”, you should consider the duration as “7 minutes”. (Again, you will need to eventually convert minutes into seconds).\n",
        "* If a duration has a “<” sign, you should simply ignore the “<” sign. For example if the duration is specified as “< 1 minute”, consider the duration to be “1 minute”. You should subsequently convert “1 minute” to \"60 seconds\".\n",
        "* If a duration has a “>” sign, you should simply ignore the “>” sign. \n",
        "* You should ignore any row with an empty duration.\n",
        "\n",
        "You will probably have to improvise as you go along, so **make detailed notes of what decisions you are making and why**."
      ],
      "metadata": {
        "id": "XRED23qlni_z"
      }
    },
    {
      "cell_type": "code",
      "source": [
        "# your code here \n",
        "# clean data \n",
        "import re\n",
        "df = pd.read_csv('ufos_in_texas.csv')\n",
        "test = df.head()\n",
        "num_rows_original = df.shape[0]\n",
        "\n",
        "#drop the rows which are empty\n",
        "df.dropna(subset=['Duration'],inplace=True)\n",
        "\n",
        "df['Duration'] = df['Duration'].str.replace(r'(<|>|~|\\+|\\.)s?', '', regex=True, case=False) #removing <,>,~\n",
        "\n",
        "# processing elements like 3-4 minutes \n",
        "for index,row in df.iterrows():\n",
        "\n",
        "  row['Duration']=str(row['Duration']) #converting to string type\n",
        "  row['Duration'] = row['Duration'].lstrip()\n",
        "  row['Duration'] = row['Duration'].rstrip()\n",
        "\n",
        "  #removing characters present after x-y seconds as some have '.' or some additional text after the time unit\n",
        "  if(re.match('\\d+[-]?\\d+?\\s+(sec|second|min|minute|hr|hour|day|year)s?.*',row['Duration'],flags=re.IGNORECASE) != None):\n",
        "    split_data = row['Duration'].split(\" \") \n",
        "    row['Duration'] = split_data[0] + ' ' + split_data[1]\n",
        "\n",
        "  #taking the mid point of the time range (example: 3-4 minutes => 3.5 minutes)\n",
        "  if(re.match('\\d+[-]\\d+\\s+(sec|second|min|minute|hr|hour|day|year)s?.*',row['Duration'],flags=re.IGNORECASE) != None):\n",
        "    split_data = row['Duration'].split(\" \")\n",
        "    unit = split_data[1].split('.')[0]\n",
        "    split_data = split_data[0].split(\"-\")\n",
        "    row['Duration'] = (float(split_data[0]) + float(split_data[1]))/2\n",
        "    row['Duration'] = str(row['Duration']) + ' ' + unit\n",
        "    \n",
        "#handling the spelling errors and shorthands\n",
        "df['Duration'] = df['Duration'].str.replace(r'\\bsecs?\\s?\\b', 'seconds', regex=True, case=False) #replacing sec,secs with seconds\n",
        "df['Duration'] = df['Duration'].str.replace(r'\\bsecondss\\b', 'seconds', regex=True, case=False) #replacing secondss with seconds \n",
        "df['Duration'] = df['Duration'].str.replace(r'\\bmins?\\s?\\b', 'minutes', regex=True, case=False) #replacing min,mins with minutes\n",
        "df['Duration'] = df['Duration'].str.replace(r'\\bminutess\\b', 'minutes', regex=True, case=False) #replacing minutess with minutes \n",
        "df['Duration'] = df['Duration'].str.replace(r'\\bhrs?\\b', 'hours', regex=True, case=False) #replacing hr/hrs with hours \n",
        "\n",
        "#filtering out the rows that don't have the data in the expected format\n",
        "df = df[df['Duration'].str.fullmatch('\\d+(\\.\\d+)?\\s(second|minute|hour|day|year)s?', case=False) == True]\n",
        "\n",
        "#converting all values to seconds\n",
        "df['Duration'].replace('( minute)s?', '*60 seconds', regex=True, inplace=True)\n",
        "df['Duration'].replace('( hour)s?', '*3600 seconds', regex=True, inplace=True)\n",
        "df['Duration'].replace('( day)s?', '*86400 seconds', regex=True, inplace=True)\n",
        "df['Duration'].replace('( year)s?', '*31536000 seconds', regex=True, inplace=True)\n",
        "df['Duration'].replace('( second)s?', '*1', regex=True, inplace=True)\n",
        "\n",
        "inter_m=df['Duration'].str.split(\"*\",expand=True)\n",
        "inter_m[0] = pd.to_numeric(inter_m[0], errors='coerce')\n",
        "inter_m[1] = pd.to_numeric(inter_m[1], errors='coerce')\n",
        "\n",
        "df['Duration']=inter_m[0] * inter_m[1]\n",
        "\n",
        "# saving the cleaned data in a csv\n",
        "df.to_csv('cleaned_seconds.csv', index=False)\n",
        "num_rows_filtered = df.shape[0]\n",
        "print(df.shape)\n",
        "df.head()\n",
        "\n"
      ],
      "metadata": {
        "id": "q3zORgUTnmZg",
        "colab": {
          "base_uri": "https://localhost:8080/",
          "height": 310
        },
        "outputId": "fd3a4f57-5b2a-4c20-db36-794388354133"
      },
      "execution_count": 9,
      "outputs": [
        {
          "output_type": "stream",
          "name": "stdout",
          "text": [
            "(4220, 7)\n"
          ]
        },
        {
          "output_type": "stream",
          "name": "stderr",
          "text": [
            "/usr/local/lib/python3.7/dist-packages/pandas/core/generic.py:6619: SettingWithCopyWarning: \n",
            "A value is trying to be set on a copy of a slice from a DataFrame\n",
            "\n",
            "See the caveats in the documentation: https://pandas.pydata.org/pandas-docs/stable/user_guide/indexing.html#returning-a-view-versus-a-copy\n",
            "  return self._update_inplace(result)\n"
          ]
        },
        {
          "output_type": "execute_result",
          "data": {
            "text/html": [
              "\n",
              "  <div id=\"df-fafa68f8-0f92-4f6a-b1fe-ccfbc9c33ed0\">\n",
              "    <div class=\"colab-df-container\">\n",
              "      <div>\n",
              "<style scoped>\n",
              "    .dataframe tbody tr th:only-of-type {\n",
              "        vertical-align: middle;\n",
              "    }\n",
              "\n",
              "    .dataframe tbody tr th {\n",
              "        vertical-align: top;\n",
              "    }\n",
              "\n",
              "    .dataframe thead th {\n",
              "        text-align: right;\n",
              "    }\n",
              "</style>\n",
              "<table border=\"1\" class=\"dataframe\">\n",
              "  <thead>\n",
              "    <tr style=\"text-align: right;\">\n",
              "      <th></th>\n",
              "      <th>Date / Time</th>\n",
              "      <th>City</th>\n",
              "      <th>State</th>\n",
              "      <th>Shape</th>\n",
              "      <th>Duration</th>\n",
              "      <th>Summary</th>\n",
              "      <th>Posted</th>\n",
              "    </tr>\n",
              "  </thead>\n",
              "  <tbody>\n",
              "    <tr>\n",
              "      <th>0</th>\n",
              "      <td>12/14/21 22:30</td>\n",
              "      <td>Dallas</td>\n",
              "      <td>TX</td>\n",
              "      <td>Formation</td>\n",
              "      <td>480.0</td>\n",
              "      <td>It was loud like rocket in a V shape.</td>\n",
              "      <td>12/19/21</td>\n",
              "    </tr>\n",
              "    <tr>\n",
              "      <th>1</th>\n",
              "      <td>12/12/21 17:30</td>\n",
              "      <td>Dallas</td>\n",
              "      <td>TX</td>\n",
              "      <td>Light</td>\n",
              "      <td>600.0</td>\n",
              "      <td>A light that was fading in and out.</td>\n",
              "      <td>12/19/21</td>\n",
              "    </tr>\n",
              "    <tr>\n",
              "      <th>5</th>\n",
              "      <td>12/3/21 21:00</td>\n",
              "      <td>Sanderson</td>\n",
              "      <td>TX</td>\n",
              "      <td>Light</td>\n",
              "      <td>60.0</td>\n",
              "      <td>Sighting of odd light in night sky.</td>\n",
              "      <td>12/19/21</td>\n",
              "    </tr>\n",
              "    <tr>\n",
              "      <th>9</th>\n",
              "      <td>12/1/21 08:00</td>\n",
              "      <td>Austin</td>\n",
              "      <td>TX</td>\n",
              "      <td>Changing</td>\n",
              "      <td>157680000.0</td>\n",
              "      <td>((HOAX))  UFO on a star with men in red armore...</td>\n",
              "      <td>12/19/21</td>\n",
              "    </tr>\n",
              "    <tr>\n",
              "      <th>12</th>\n",
              "      <td>11/12/21 10:00</td>\n",
              "      <td>Hickory Creek</td>\n",
              "      <td>TX</td>\n",
              "      <td>Circle</td>\n",
              "      <td>150.0</td>\n",
              "      <td>2 identical circular orange spheres traveling ...</td>\n",
              "      <td>11/15/21</td>\n",
              "    </tr>\n",
              "  </tbody>\n",
              "</table>\n",
              "</div>\n",
              "      <button class=\"colab-df-convert\" onclick=\"convertToInteractive('df-fafa68f8-0f92-4f6a-b1fe-ccfbc9c33ed0')\"\n",
              "              title=\"Convert this dataframe to an interactive table.\"\n",
              "              style=\"display:none;\">\n",
              "        \n",
              "  <svg xmlns=\"http://www.w3.org/2000/svg\" height=\"24px\"viewBox=\"0 0 24 24\"\n",
              "       width=\"24px\">\n",
              "    <path d=\"M0 0h24v24H0V0z\" fill=\"none\"/>\n",
              "    <path d=\"M18.56 5.44l.94 2.06.94-2.06 2.06-.94-2.06-.94-.94-2.06-.94 2.06-2.06.94zm-11 1L8.5 8.5l.94-2.06 2.06-.94-2.06-.94L8.5 2.5l-.94 2.06-2.06.94zm10 10l.94 2.06.94-2.06 2.06-.94-2.06-.94-.94-2.06-.94 2.06-2.06.94z\"/><path d=\"M17.41 7.96l-1.37-1.37c-.4-.4-.92-.59-1.43-.59-.52 0-1.04.2-1.43.59L10.3 9.45l-7.72 7.72c-.78.78-.78 2.05 0 2.83L4 21.41c.39.39.9.59 1.41.59.51 0 1.02-.2 1.41-.59l7.78-7.78 2.81-2.81c.8-.78.8-2.07 0-2.86zM5.41 20L4 18.59l7.72-7.72 1.47 1.35L5.41 20z\"/>\n",
              "  </svg>\n",
              "      </button>\n",
              "      \n",
              "  <style>\n",
              "    .colab-df-container {\n",
              "      display:flex;\n",
              "      flex-wrap:wrap;\n",
              "      gap: 12px;\n",
              "    }\n",
              "\n",
              "    .colab-df-convert {\n",
              "      background-color: #E8F0FE;\n",
              "      border: none;\n",
              "      border-radius: 50%;\n",
              "      cursor: pointer;\n",
              "      display: none;\n",
              "      fill: #1967D2;\n",
              "      height: 32px;\n",
              "      padding: 0 0 0 0;\n",
              "      width: 32px;\n",
              "    }\n",
              "\n",
              "    .colab-df-convert:hover {\n",
              "      background-color: #E2EBFA;\n",
              "      box-shadow: 0px 1px 2px rgba(60, 64, 67, 0.3), 0px 1px 3px 1px rgba(60, 64, 67, 0.15);\n",
              "      fill: #174EA6;\n",
              "    }\n",
              "\n",
              "    [theme=dark] .colab-df-convert {\n",
              "      background-color: #3B4455;\n",
              "      fill: #D2E3FC;\n",
              "    }\n",
              "\n",
              "    [theme=dark] .colab-df-convert:hover {\n",
              "      background-color: #434B5C;\n",
              "      box-shadow: 0px 1px 3px 1px rgba(0, 0, 0, 0.15);\n",
              "      filter: drop-shadow(0px 1px 2px rgba(0, 0, 0, 0.3));\n",
              "      fill: #FFFFFF;\n",
              "    }\n",
              "  </style>\n",
              "\n",
              "      <script>\n",
              "        const buttonEl =\n",
              "          document.querySelector('#df-fafa68f8-0f92-4f6a-b1fe-ccfbc9c33ed0 button.colab-df-convert');\n",
              "        buttonEl.style.display =\n",
              "          google.colab.kernel.accessAllowed ? 'block' : 'none';\n",
              "\n",
              "        async function convertToInteractive(key) {\n",
              "          const element = document.querySelector('#df-fafa68f8-0f92-4f6a-b1fe-ccfbc9c33ed0');\n",
              "          const dataTable =\n",
              "            await google.colab.kernel.invokeFunction('convertToInteractive',\n",
              "                                                     [key], {});\n",
              "          if (!dataTable) return;\n",
              "\n",
              "          const docLinkHtml = 'Like what you see? Visit the ' +\n",
              "            '<a target=\"_blank\" href=https://colab.research.google.com/notebooks/data_table.ipynb>data table notebook</a>'\n",
              "            + ' to learn more about interactive tables.';\n",
              "          element.innerHTML = '';\n",
              "          dataTable['output_type'] = 'display_data';\n",
              "          await google.colab.output.renderOutput(dataTable, element);\n",
              "          const docLink = document.createElement('div');\n",
              "          docLink.innerHTML = docLinkHtml;\n",
              "          element.appendChild(docLink);\n",
              "        }\n",
              "      </script>\n",
              "    </div>\n",
              "  </div>\n",
              "  "
            ],
            "text/plain": [
              "       Date / Time  ...    Posted\n",
              "0   12/14/21 22:30  ...  12/19/21\n",
              "1   12/12/21 17:30  ...  12/19/21\n",
              "5    12/3/21 21:00  ...  12/19/21\n",
              "9    12/1/21 08:00  ...  12/19/21\n",
              "12  11/12/21 10:00  ...  11/15/21\n",
              "\n",
              "[5 rows x 7 columns]"
            ]
          },
          "metadata": {},
          "execution_count": 9
        }
      ]
    },
    {
      "cell_type": "code",
      "source": [
        "# your code here\n",
        "# total rows in original dataset\n",
        "print(\"Total #rows in original dataset : {}\".format(num_rows_original))\n",
        "\n",
        "# valid rows in your cleaned dataset\n",
        "print(\"Total #rows in new 'validated' dataset : {}\".format(df.shape[0]))\n"
      ],
      "metadata": {
        "id": "e2PDFUk1nqY4",
        "colab": {
          "base_uri": "https://localhost:8080/"
        },
        "outputId": "d2917bc5-37f2-4afb-c0cf-a90a508e6a63"
      },
      "execution_count": 10,
      "outputs": [
        {
          "output_type": "stream",
          "name": "stdout",
          "text": [
            "Total #rows in original dataset : 5631\n",
            "Total #rows in new 'validated' dataset : 4220\n"
          ]
        }
      ]
    },
    {
      "cell_type": "code",
      "source": [
        "# your code here\n",
        "# report the basic statistics of duration in your cleaned dataset\n",
        "\n",
        "print(\"Max duration in the validated dataset : {}\".format(df['Duration'].max()))\n",
        "print(\"Min duration in the validated dataset : {}\".format(df['Duration'].min()))\n",
        "print(\"Mean duration in the validated dataset : {}\".format(df['Duration'].mean()))\n",
        "print(\"Std Deviation of  duration in the validated dataset : {}\".format(df['Duration'].std()))\n",
        "\n",
        "# draw a boxplot for your cleaned dataset\n",
        "df['Duration'].plot(kind='box',showfliers=True) #with outliers "
      ],
      "metadata": {
        "id": "L_r7ogIHnquU",
        "colab": {
          "base_uri": "https://localhost:8080/",
          "height": 363
        },
        "outputId": "1a265361-60ae-4918-a388-8bce6474df50"
      },
      "execution_count": 11,
      "outputs": [
        {
          "output_type": "stream",
          "name": "stdout",
          "text": [
            "Max duration in the validated dataset : 157680000.0\n",
            "Min duration in the validated dataset : 1.0\n",
            "Mean duration in the validated dataset : 40636.01998026641\n",
            "Std Deviation of  duration in the validated dataset : 2476541.776484255\n"
          ]
        },
        {
          "output_type": "execute_result",
          "data": {
            "text/plain": [
              "<matplotlib.axes._subplots.AxesSubplot at 0x7f918d085810>"
            ]
          },
          "metadata": {},
          "execution_count": 11
        },
        {
          "output_type": "display_data",
          "data": {
            "image/png": "[encoded data removed]",
            "text/plain": [
              "<Figure size 432x288 with 1 Axes>"
            ]
          },
          "metadata": {
            "needs_background": "light"
          }
        }
      ]
    },
    {
      "cell_type": "code",
      "source": [
        "df['Duration'].plot(kind='box',showfliers=False) #without outliers "
      ],
      "metadata": {
        "colab": {
          "base_uri": "https://localhost:8080/",
          "height": 282
        },
        "id": "fcT8Z69Gt-WM",
        "outputId": "3f7391d9-d754-49b9-9bf6-6b07e2a37bfb"
      },
      "execution_count": 12,
      "outputs": [
        {
          "output_type": "execute_result",
          "data": {
            "text/plain": [
              "<matplotlib.axes._subplots.AxesSubplot at 0x7f918cd48590>"
            ]
          },
          "metadata": {},
          "execution_count": 12
        },
        {
          "output_type": "display_data",
          "data": {
            "image/png": "[encoded data removed]",
            "text/plain": [
              "<Figure size 432x288 with 1 Axes>"
            ]
          },
          "metadata": {
            "needs_background": "light"
          }
        }
      ]
    },
    {
      "cell_type": "markdown",
      "source": [
        "### (5pts) Part 1d: Observations and Conclusions\n",
        "\n",
        "Based on your analysis on part 1b and 1c, what observations or conclusions can you make from the data?"
      ],
      "metadata": {
        "id": "-5rKvm1k7HHk"
      }
    },
    {
      "cell_type": "markdown",
      "source": [
        "Observations:\n",
        "1.   There are some outliers in the data which are very high values. After removing outliers, the range of values is around 1400 seconds(~24mins).\n",
        "2.   From the boxplots in 1b and 1c(ignoring outliers), it is clear that the duration values are concentrated towards the lower values.\n",
        "3.   Around 75% of the values are in the range of 0 to 600 seconds(0 to 10 mins). It can be inferred that the distribution of the duration values is right-skewed(concentrated in the left and tapering towards the right).\n",
        "\n"
      ],
      "metadata": {
        "id": "vrnseH_t7RzX"
      }
    },
    {
      "cell_type": "markdown",
      "source": [
        "### (5pts) Part 1e: Next Steps\n",
        "\n",
        "Now is your chance to conduct an interesting analysis on the UFO data you have collected. This is open-ended, so you may choose whatever direction you like. For example, you might want to take a look at the shape of the UFOs or perhaps the temporal aspects of the reports. "
      ],
      "metadata": {
        "id": "X-n9Zd2j7uFC"
      }
    },
    {
      "cell_type": "code",
      "source": [
        "import pandas as pd\n",
        "import matplotlib.pyplot as plt\n",
        "\n",
        "df = pd.read_csv('ufos_in_texas.csv')\n",
        "\n",
        "df['Posted'] = pd.to_datetime(df.Posted)\n",
        "df['Posted'] = df.Posted.dt.year\n",
        "newdf = df.groupby('Posted').size().reset_index(name='counts')\n",
        "newdf.plot(x= 'Posted', y = 'counts', kind = 'bar')"
      ],
      "metadata": {
        "id": "GngkwXtD8Kvy",
        "colab": {
          "base_uri": "https://localhost:8080/",
          "height": 312
        },
        "outputId": "d00c3a7d-6a10-46cc-85d5-7c7a794627fb"
      },
      "execution_count": 13,
      "outputs": [
        {
          "output_type": "execute_result",
          "data": {
            "text/plain": [
              "<matplotlib.axes._subplots.AxesSubplot at 0x7f918cbc7790>"
            ]
          },
          "metadata": {},
          "execution_count": 13
        },
        {
          "output_type": "display_data",
          "data": {
            "image/png": "[encoded data removed]",
            "text/plain": [
              "<Figure size 432x288 with 1 Axes>"
            ]
          },
          "metadata": {
            "needs_background": "light"
          }
        }
      ]
    },
    {
      "cell_type": "code",
      "source": [
        "df = pd.read_csv('ufos_in_texas.csv')\n",
        "df_grouped_shapes =  df.groupby('Shape').size().reset_index(name='counts')\n",
        "df_grouped_shapes = df_grouped_shapes.sort_values(['counts'], ascending=False)\n",
        "df_top_shapes = df_grouped_shapes[0:15]\n",
        "percentage_of_data = df_top_shapes['counts'].sum()/df_grouped_shapes['counts'].sum()\n",
        "print(percentage_of_data)\n",
        "df_top_shapes.plot(x= 'Shape', y = 'counts', kind = 'bar')"
      ],
      "metadata": {
        "colab": {
          "base_uri": "https://localhost:8080/",
          "height": 355
        },
        "id": "KiXcySVyVpUt",
        "outputId": "39cc5907-c86c-4575-abc9-b1a541c046e3"
      },
      "execution_count": 23,
      "outputs": [
        {
          "output_type": "stream",
          "name": "stdout",
          "text": [
            "0.9423147133990507\n"
          ]
        },
        {
          "output_type": "execute_result",
          "data": {
            "text/plain": [
              "<matplotlib.axes._subplots.AxesSubplot at 0x7f388a7aff90>"
            ]
          },
          "metadata": {},
          "execution_count": 23
        },
        {
          "output_type": "display_data",
          "data": {
            "image/png": "[encoded data removed]",
            "text/plain": [
              "<Figure size 432x288 with 1 Axes>"
            ]
          },
          "metadata": {
            "needs_background": "light"
          }
        }
      ]
    },
    {
      "cell_type": "markdown",
      "source": [
        "\n",
        "Temporal analysis:\n",
        "*   I considered the 'Posted' column and extracted the year information of all the reportings.\n",
        "*   The trend of the number of reportings of UFOs on the site is going upwards from 1998 to 2008. This is followed by some variations in both directions.\n",
        "*   Although there is no definite trend post 2008, the earlier uptrend could be attributed to the increasing number of users joining the internet with computers becoming easily available.\n",
        "\n",
        "Shape analysis:\n",
        "*   I grouped the reportings by shape and considered the top 16 most seen shapes for analysis. These correspond to 94% of the dataset.\n",
        "*   The most reported shape is that of 'light'. Among the other shapes, 'Flash' can be considered similar to 'light'.\n",
        "*   Among other shapes, 'circle', 'disk', 'sphere' can be considered as same shape.\n",
        "*   In summary, people saw flashes of light or circular shaped formations in the sky and concluded that it is a UFO.\n",
        "\n"
      ],
      "metadata": {
        "id": "tb6tGIBG8M2q"
      }
    },
    {
      "cell_type": "markdown",
      "source": [
        "## (50 points) Part 2: Association Rules in Movie Rating Behaviors"
      ],
      "metadata": {
        "id": "FQ6FjJ2NEoFS"
      }
    },
    {
      "cell_type": "markdown",
      "source": [
        "For the second part of this homework, we're going to examine movies using our understanding of association rules, to find movies that \"go together\". For this part, you will implement the apriori algorithm, and apply it to a movie rating dataset. We'll use the [MovieLens](https://grouplens.org/datasets/movielens/) dataset.\n",
        "\n",
        "First, run the next cell to load the dataset we are going to use."
      ],
      "metadata": {
        "id": "CKVTACJGFGYw"
      }
    },
    {
      "cell_type": "code",
      "source": [
        "import urllib3\n",
        "import zipfile\n",
        "\n",
        "http = urllib3.PoolManager()\n",
        "req = http.request(\"GET\", \"https://files.grouplens.org/datasets/movielens/ml-latest-small.zip\", preload_content=False)\n",
        "\n",
        "with open(\"movie.zip\", 'wb') as out:\n",
        "  while True:\n",
        "    data = req.read(4096)\n",
        "    if not data:\n",
        "      break\n",
        "    out.write(data)\n",
        "req.release_conn()\n",
        "\n",
        "zFile = zipfile.ZipFile(\"movie.zip\", \"r\")\n",
        "for fileM in zFile.namelist():\n",
        "  zFile.extract(fileM)"
      ],
      "metadata": {
        "id": "fcZSAoCAFDyA",
        "colab": {
          "base_uri": "https://localhost:8080/"
        },
        "outputId": "754cb2be-9172-4337-9159-fadb033aae64"
      },
      "execution_count": 166,
      "outputs": [
        {
          "output_type": "stream",
          "name": "stderr",
          "text": [
            "/usr/local/lib/python3.7/dist-packages/urllib3/connectionpool.py:847: InsecureRequestWarning: Unverified HTTPS request is being made. Adding certificate verification is strongly advised. See: https://urllib3.readthedocs.io/en/latest/advanced-usage.html#ssl-warnings\n",
            "  InsecureRequestWarning)\n"
          ]
        }
      ]
    },
    {
      "cell_type": "code",
      "source": [
        "!ls ml-latest-small/"
      ],
      "metadata": {
        "id": "YgIIGQ3lIgRH",
        "colab": {
          "base_uri": "https://localhost:8080/"
        },
        "outputId": "6a5964e0-865f-4046-e58c-51a96d4b46ee"
      },
      "execution_count": 145,
      "outputs": [
        {
          "output_type": "stream",
          "name": "stdout",
          "text": [
            "links.csv  movies.csv  ratings.csv  README.txt\ttags.csv\n"
          ]
        }
      ]
    },
    {
      "cell_type": "markdown",
      "source": [
        "In this dataset, there are four columns: `userId` is the integer ids of users, `movieId` is the integer ids of movies, `rating` is the rate of the user gives to the movie, and `timestamp` which we do not use here. Each row denotes that the user of given `userId` rated the movie of the given `movieId`. We are going to treat each user as a \"basket\", so you will need to collect all the movies that have been rated by a single user as a basket. \n",
        "\n",
        "Now, you need to implement the apriori algorithm and apply it to this dataset to find association rules of user rating behaviors where:\n",
        "\n",
        "1. Define `rating` >= 3 is \"like\" (that is, only consider movie ratings of 3 or higher in your baskets; you may ignore all others)\n",
        "2. `minsup` == 40 (out of 600 users/baskets); we may adjust this based on the discussion on Campuswire\n",
        "3. `minconf` == to be determined by a discussion on Campuswire. You may try several different choices, but we will converge on a good choice for everyone for the final submission.\n",
        " \n",
        "We know there are many existing implementations of apriori online (check github for some good starting points). You are welcome to read existing codebases and let that inform your approach. Do not copy-paste any existing code. We want your code to have sufficient comments to explain your steps, to show us that you really know what you are doing. Furthermore, you should add print statements to print out the intermediate steps of your method -- e.g., the size of the candidate set at each step of the method, the size of the filtered set, and any other important information you think will highlight the method. \n",
        "\n",
        "To help get you started, we can load the ratings with the following code snippet:"
      ],
      "metadata": {
        "id": "RiF1Gc0q7qzj"
      }
    },
    {
      "cell_type": "markdown",
      "source": [
        "### (15pts) Step 1: Implement Apriori Algorithm\n",
        "In this section, you need to implement the Apriori algorithm, we will check the correctness of your code and we encourage efficient implementation and skills of pruning."
      ],
      "metadata": {
        "id": "QfwWA4d2Ne6r"
      }
    },
    {
      "cell_type": "code",
      "source": [
        "# your code here\n",
        "import pandas as pd\n",
        "from collections import defaultdict\n",
        "\n",
        "\n",
        "def get_support(itemset, freq_itemset_frequencies):\n",
        "  return frequencies_of_freq_itemsets[itemset]\n",
        "\n",
        "def get_candidate_itemsets(itemsets, length):\n",
        "  candidates = set()\n",
        "  for itemset in itemsets:\n",
        "    for other_itemset in itemsets:\n",
        "      if(len(itemset.union(other_itemset)) == length):\n",
        "        candidates.add(itemset.union(other_itemset))\n",
        "  \n",
        "  return candidates\n",
        "\n",
        "def get_freq_itemsets(itemsets, txs_list,  minsup, freq_itemset_frequencies):\n",
        "  \n",
        "  freq_itemset_set = set()\n",
        "  for itemset in itemsets:\n",
        "    #print(itemset)\n",
        "    sup = 0\n",
        "    for tx in txs_list:\n",
        "      if(itemset.issubset(tx) == True):\n",
        "        sup +=1\n",
        "    #sup =  get_support(itemset, txs_list, minsup)\n",
        "    if(sup >= minsup):\n",
        "      freq_itemset_set.add(itemset)\n",
        "      freq_itemset_frequencies[itemset] = sup # for confidence calculation \n",
        "\n",
        "  return freq_itemset_set\n"
      ],
      "metadata": {
        "id": "48ITOQG09fT2"
      },
      "execution_count": 167,
      "outputs": []
    },
    {
      "cell_type": "code",
      "source": [
        "\n",
        "# read user ratings\n",
        "allRatings = pd.read_csv(\"ml-latest-small/ratings.csv\")\n",
        "\n",
        "#keep reviews with ratings >=3 only\n",
        "ratings_new = allRatings[allRatings['rating']>=3]\n",
        "\n",
        "#initial itemset is the set of singleton movie ids\n",
        "ratings_new = ratings_new.groupby('userId')\n",
        "initial_candidate_list = set() #set having individual movies as sets\n",
        "txs_list = [] #database of transactions\n",
        "for userId, data in ratings_new:\n",
        "  #each transaction(movies reviewed by a given user) is a frozen set\n",
        "  txs_list.append(frozenset(data['movieId']))\n",
        "  for movie in data['movieId']:\n",
        "    # initial_candidate_list is the set of all unique movies reviewed by the users \n",
        "    initial_candidate_list.add(frozenset([movie]))\n",
        "\n",
        "print(\"Size of candidate itemsets for k = 1: {}\".format(len(initial_candidate_list)))\n",
        "\n",
        "#keep track of the support of all the frequent itemsets which form the keys of this dictionary.\n",
        "#this will be used during the calculation of the confidence values\n",
        "frequencies_of_freq_itemsets = defaultdict(int)\n",
        "\n",
        "minsup_val = 150\n",
        "singleton_freq_itemset = get_freq_itemsets(initial_candidate_list, txs_list, minsup_val, frequencies_of_freq_itemsets)\n",
        "print(\"Size of filtered itemsets for k = 1: {}\".format(len(singleton_freq_itemset)))\n",
        "\n",
        "final_itemsets = list() #list of sets where each set contains itemsets indexed by the length of itemsets\n",
        "final_itemsets.append(set()) # for k=0 , dummy null set\n",
        "final_itemsets.append(singleton_freq_itemset)\n",
        "\n",
        "k = 2\n",
        "prev = singleton_freq_itemset\n",
        "\n",
        "while(len(prev) > 1):\n",
        "  #create new extended itemsets\n",
        "  candidates = get_candidate_itemsets(prev, k)\n",
        "  prev = candidates\n",
        "  print(\"Size of candidate itemsets for k = {}: {}\".format(k, len(candidates)))\n",
        "  if(len(candidates) > 0):\n",
        "    result = get_freq_itemsets(candidates, txs_list, minsup_val, frequencies_of_freq_itemsets)\n",
        "    if(len(result)>0):\n",
        "      final_itemsets.append(result)\n",
        "    prev = result\n",
        "    print(\"Size of filtered itemsets for k = {}: {}\".format(k, len(result)))\n",
        "  k=k+1\n",
        "\n",
        "  #reference implementation: https://github.com/asaini/Apriori/blob/541c1d268880649e90be25c0f326fb1597ad9c51/apriori.py"
      ],
      "metadata": {
        "colab": {
          "base_uri": "https://localhost:8080/"
        },
        "id": "31pW1XPKJ7YJ",
        "outputId": "023dc1e6-dd6c-43a3-a87d-ee3efb072cb2"
      },
      "execution_count": 168,
      "outputs": [
        {
          "output_type": "stream",
          "name": "stdout",
          "text": [
            "Size of candidate itemsets for k = 1: 8452\n",
            "Size of filtered itemsets for k = 1: 37\n",
            "Size of candidate itemsets for k = 2: 666\n",
            "Size of filtered itemsets for k = 2: 30\n",
            "Size of candidate itemsets for k = 3: 87\n",
            "Size of filtered itemsets for k = 3: 2\n",
            "Size of candidate itemsets for k = 4: 1\n",
            "Size of filtered itemsets for k = 4: 0\n"
          ]
        }
      ]
    },
    {
      "cell_type": "markdown",
      "source": [
        "### (5pts) Step 2: Print Your Association Rules\n",
        "\n",
        "Next you should print your final association rules in the following format:\n",
        "\n",
        "**movie_name_1, movie_name_2, ... --> \n",
        "movie_name_k**\n",
        "\n",
        "where the movie names can be fetched by joining the movieId with the file `movies.csv`. For example, one rule that you might find is:\n",
        "\n",
        "**Matrix, The (1999),  Star Wars: Episode V - The Empire Strikes Back (1980),  Star Wars: Episode IV - A New Hope (1977),  -> \n",
        "Star Wars: Episode VI - Return of the Jedi (1983)**"
      ],
      "metadata": {
        "id": "Ea6GbdOOBZOY"
      }
    },
    {
      "cell_type": "code",
      "source": [
        "# your code here\n",
        "import itertools\n",
        "\n",
        "minconf = 0.8\n",
        "\n",
        "movie_info = pd.read_csv(\"ml-latest-small/movies.csv\")\n",
        "\n",
        "def genAssociateRules(itemset, minconf, frequencies):\n",
        "  '''\n",
        "  returns the association rules for a given itemset given\n",
        "  the itemset, min confidence value and the frequencies(support) of all itemsets\n",
        "  '''\n",
        "  rules =[]\n",
        "  rulecount = 0\n",
        "\n",
        "  for length in range(1,len(itemset)+1):\n",
        "    subsets_list = list(itertools.combinations(itemset, length))\n",
        "    for subset in subsets_list:\n",
        "      #association rule : antecedent => consequent\n",
        "      antecedent = frozenset(itemset.difference(subset))\n",
        "      if(len(antecedent)>0 and len(antecedent)<len(itemset)):\n",
        "        num = frequencies[itemset]\n",
        "        den = frequencies[antecedent]\n",
        "        conf = float(num)/den\n",
        "        if(conf >= minconf):\n",
        "          rulecount+=1\n",
        "          #get the corresponding movie names from the ids\n",
        "          antecedent_movies = []\n",
        "          consequent_movies = []\n",
        "          for id in antecedent:\n",
        "            antecedent_movies.append(movie_info[movie_info['movieId'] == id]['title'].values[0])\n",
        "          for id in subset:\n",
        "            consequent_movies.append(movie_info[movie_info['movieId'] == id]['title'].values[0])\n",
        "          rules.append(tuple([antecedent_movies, consequent_movies]))\n",
        "\n",
        "  return rules"
      ],
      "metadata": {
        "id": "rSbhiIkw9kj1"
      },
      "execution_count": 169,
      "outputs": []
    },
    {
      "cell_type": "code",
      "source": [
        "# read user ratings\n",
        "allRatings = pd.read_csv(\"ml-latest-small/ratings.csv\")\n",
        "\n",
        "#keep reviews with ratings >=3 only\n",
        "ratings_new = allRatings[allRatings['rating']>=3]\n",
        "\n",
        "#initial itemset is the set of singleton movie ids\n",
        "ratings_new = ratings_new.groupby('userId')\n",
        "initial_candidate_list = set() #set having individual movies as sets\n",
        "txs_list = [] #database of transactions\n",
        "for userId, data in ratings_new:\n",
        "  #each transaction(movies reviewed by a given user) is a frozen set\n",
        "  txs_list.append(frozenset(data['movieId']))"
      ],
      "metadata": {
        "id": "76X8eNRSd2yt"
      },
      "execution_count": 170,
      "outputs": []
    },
    {
      "cell_type": "code",
      "source": [
        "association_rules = []\n",
        "for itemsets_of_len_k in final_itemsets:\n",
        "  for itemset in itemsets_of_len_k:\n",
        "    rules_list = genAssociateRules(itemset, minconf, frequencies_of_freq_itemsets)\n",
        "    if(len(rules_list)>0):\n",
        "      for rule in rules_list:\n",
        "        formatted_rule = ''\n",
        "        for movie in rule[0]:\n",
        "          formatted_rule = formatted_rule + str(movie) + ','\n",
        "        formatted_rule = formatted_rule.rstrip(',') + ' => '\n",
        "        for movie in rule[1]:\n",
        "          formatted_rule = formatted_rule + str(movie) + ','\n",
        "        association_rules.append(formatted_rule.rstrip(','))"
      ],
      "metadata": {
        "id": "uDD0trjoKX45"
      },
      "execution_count": 171,
      "outputs": []
    },
    {
      "cell_type": "code",
      "source": [
        "i=1\n",
        "for rule in association_rules:\n",
        "  print(str(i) + '. ' + rule)\n",
        "  i=i+1"
      ],
      "metadata": {
        "colab": {
          "base_uri": "https://localhost:8080/"
        },
        "id": "QuUNy0DjKkl4",
        "outputId": "70a1ed6a-538f-470e-c6a4-3b54fd9f371a"
      },
      "execution_count": 172,
      "outputs": [
        {
          "output_type": "stream",
          "name": "stdout",
          "text": [
            "1. Lord of the Rings: The Fellowship of the Ring, The (2001) => Lord of the Rings: The Return of the King, The (2003)\n",
            "2. Lord of the Rings: The Return of the King, The (2003) => Lord of the Rings: The Fellowship of the Ring, The (2001)\n",
            "3. Jurassic Park (1993) => Forrest Gump (1994)\n",
            "4. Star Wars: Episode V - The Empire Strikes Back (1980) => Star Wars: Episode IV - A New Hope (1977)\n",
            "5. Star Wars: Episode VI - Return of the Jedi (1983) => Star Wars: Episode IV - A New Hope (1977)\n",
            "6. Lord of the Rings: The Fellowship of the Ring, The (2001) => Lord of the Rings: The Two Towers, The (2002)\n",
            "7. Lord of the Rings: The Two Towers, The (2002) => Lord of the Rings: The Fellowship of the Ring, The (2001)\n",
            "8. Star Wars: Episode VI - Return of the Jedi (1983) => Star Wars: Episode V - The Empire Strikes Back (1980)\n",
            "9. Seven (a.k.a. Se7en) (1995) => Pulp Fiction (1994)\n",
            "10. Lord of the Rings: The Return of the King, The (2003) => Lord of the Rings: The Two Towers, The (2002)\n",
            "11. Lord of the Rings: The Two Towers, The (2002) => Lord of the Rings: The Return of the King, The (2003)\n",
            "12. Apollo 13 (1995) => Forrest Gump (1994)\n",
            "13. Silence of the Lambs, The (1991),Shawshank Redemption, The (1994) => Pulp Fiction (1994)\n",
            "14. Pulp Fiction (1994),Silence of the Lambs, The (1991) => Shawshank Redemption, The (1994)\n"
          ]
        }
      ]
    },
    {
      "cell_type": "markdown",
      "source": [
        "### (15pts) Step 3: Implement Random Sampling\n",
        "\n",
        "We discussed in class a method to randomly sample baskets to avoid the overhead of reading the entire set of baskets (which in practice, could amount to billions of baskets). For this part, you should implement such a random sampling approach that takes a special parameter **alpha** that controls the size of the sample: e.g., alpha = 0.10 means to sample 10% of the baskets (our users, in this case). \n",
        "\n",
        "Vary **alpha** and report the number of frequent itemsets you find and how this compares to the number of frequent itemsets in the entire dataset. What do you discover?\n"
      ],
      "metadata": {
        "id": "FfeufQAxNB82"
      }
    },
    {
      "cell_type": "code",
      "source": [
        "# your code here\n",
        "import random\n",
        "import math\n",
        "import numpy as np\n",
        "\n",
        "\n",
        "def get_random_sampled_freq_itemsets(original_txs_list= None, original_freq_itemsets = None, alpha_list = None, relax_factor_list = None, minsup = 50, change_minsup = True, check_false_positives=True):\n",
        "  '''\n",
        "  inputs: \n",
        "  original_txs_list : unsampled list of transactions, used for sampling\n",
        "  original_freq_itemsets : set of frequent itemsets generated without sampling, used to check for false positives\n",
        "  alpha_list : list of the random sampling factors(alpha) to be tested\n",
        "  relax_factor_list : additional scaling factor for the minsup when random sampling is done\n",
        "  minsup: minsup value to be considered (without sampling)\n",
        "  change_minsup : flag used to enable/disable changign minsup value after random sampling\n",
        "  check_false_positives: flag used to enable/disable checking for false positives\n",
        "  \n",
        "  Output: \n",
        "  prints out the frequent itemsets for different lengths\n",
        "  '''\n",
        "\n",
        "  for alpha in alpha_list:\n",
        "    print(\"alpha = {}\".format(alpha))\n",
        "    print(\"------------\")\n",
        "    for relax_factor in relax_factor_list:\n",
        "\n",
        "      sample_size = math.ceil(len(original_txs_list)*alpha)\n",
        "      sampled_txs = [original_txs_list[i] for i in sorted(random.sample(range(len(original_txs_list)), sample_size))]\n",
        "\n",
        "      print(\"size of sampled database: {}\".format(len(sampled_txs)))\n",
        "\n",
        "      initial_candidate_list = set() #set having individual movies as sets\n",
        "\n",
        "      for movie_set in sampled_txs:\n",
        "        for movie in movie_set:\n",
        "          initial_candidate_list.add(frozenset([movie]))\n",
        "\n",
        "      #print(len(initial_candidate_list))\n",
        "      frequencies_of_freq_itemsets = defaultdict(int)\n",
        "\n",
        "      new_minsup = minsup\n",
        "      print(\" \")\n",
        "      print(\"minsup = {}\".format(minsup))\n",
        "\n",
        "      if(change_minsup == True):\n",
        "        new_minsup = minsup * alpha * relax_factor\n",
        "        #print(\"------------\")\n",
        "        print(\"relax_factor = {}\".format(relax_factor))\n",
        "        print(\"minsup_sampled = {}\".format(new_minsup))\n",
        "        #print(\"------------\")\n",
        "        print(\" \")\n",
        "\n",
        "      print(\"Size of candidate itemsets for k = 1: {}\".format(len(initial_candidate_list)))\n",
        "\n",
        "      singleton_freq_itemset = get_freq_itemsets(initial_candidate_list, sampled_txs, new_minsup, frequencies_of_freq_itemsets)\n",
        "\n",
        "      total_freq_itemset_count = len(singleton_freq_itemset)\n",
        "      \n",
        "      print(\"Size of filtered itemsets for k = 1: {}\".format(len(singleton_freq_itemset)))\n",
        "      print(\" \")\n",
        "\n",
        "      final_itemsets_sampled = list() #list of sets where each set contains itemsets indexed by the length of itemsets\n",
        "      final_itemsets_sampled.append(set())\n",
        "      final_itemsets_sampled.append(singleton_freq_itemset)\n",
        "      \n",
        "      k = 2\n",
        "\n",
        "      prev = singleton_freq_itemset\n",
        "\n",
        "      while(len(prev) > 1):\n",
        "        #create new extended itemsets\n",
        "        candidates = get_candidate_itemsets(prev, k)\n",
        "        prev = candidates\n",
        "        print(\"Size of candidate itemsets for k = {}: {}\".format(k, len(candidates)))\n",
        "        if(len(candidates) > 0):\n",
        "          result = get_freq_itemsets(candidates, sampled_txs, new_minsup, frequencies_of_freq_itemsets)\n",
        "          if(len(result)>0):\n",
        "            final_itemsets_sampled.append(result)\n",
        "          prev = result\n",
        "          print(\"Size of filtered itemsets for k = {}: {}\".format(k, len(result)))\n",
        "          total_freq_itemset_count+=len(result)\n",
        "        k=k+1\n",
        "        print(\" \")\n",
        "      \n",
        "      print(\"Total number of frequent itemsets found = {}\".format(total_freq_itemset_count))\n",
        "\n",
        "      if(check_false_positives == True):\n",
        "        j=1\n",
        "        false_positives = np.zeros(len(final_itemsets_sampled))\n",
        "        for itemsets in final_itemsets_sampled[1:]:\n",
        "          for itemset in itemsets:\n",
        "            if(j < len(original_freq_itemsets)):#if original freq itemset list does not contain itemsets of this length, then mark all the freq itemsets as false positives\n",
        "              if(itemset not in original_freq_itemsets[j]):\n",
        "                false_positives[j]+=1\n",
        "            else:\n",
        "              false_positives[j] = len(final_itemsets_sampled[j])\n",
        "          print(\"False positive count in itemsets of length k:{} = {}\".format(j,int(false_positives[j])))\n",
        "          j=j+1\n",
        "        print(\"Total number of false positives found = {}\".format(int(sum(false_positives))))\n",
        "      \n",
        "      print(\" \")\n",
        "\n"
      ],
      "metadata": {
        "id": "bslz87rc9kET"
      },
      "execution_count": 173,
      "outputs": []
    },
    {
      "cell_type": "code",
      "source": [
        "alpha_list = [0.4, 0.5, 0.6, 0.7, 0.8, 0.9,1]\n",
        "relax_factor_list = [1]\n",
        "original_txs_list = txs_list\n",
        "original_freq_itemsets = final_itemsets\n",
        "minsup = 150\n",
        "get_random_sampled_freq_itemsets(original_txs_list, original_freq_itemsets, alpha_list, relax_factor_list, minsup,False, False )"
      ],
      "metadata": {
        "colab": {
          "base_uri": "https://localhost:8080/"
        },
        "id": "CQZ_gl2HCRR5",
        "outputId": "05a1c4b2-b709-4e8e-aea2-eb33200b1471"
      },
      "execution_count": 174,
      "outputs": [
        {
          "output_type": "stream",
          "name": "stdout",
          "text": [
            "alpha = 0.4\n",
            "------------\n",
            "size of sampled database: 244\n",
            " \n",
            "minsup = 150\n",
            "Size of candidate itemsets for k = 1: 6421\n",
            "Size of filtered itemsets for k = 1: 0\n",
            " \n",
            "Total number of frequent itemsets found = 0\n",
            " \n",
            "alpha = 0.5\n",
            "------------\n",
            "size of sampled database: 305\n",
            " \n",
            "minsup = 150\n",
            "Size of candidate itemsets for k = 1: 6240\n",
            "Size of filtered itemsets for k = 1: 2\n",
            " \n",
            "Size of candidate itemsets for k = 2: 1\n",
            "Size of filtered itemsets for k = 2: 0\n",
            " \n",
            "Total number of frequent itemsets found = 2\n",
            " \n",
            "alpha = 0.6\n",
            "------------\n",
            "size of sampled database: 366\n",
            " \n",
            "minsup = 150\n",
            "Size of candidate itemsets for k = 1: 5486\n",
            "Size of filtered itemsets for k = 1: 4\n",
            " \n",
            "Size of candidate itemsets for k = 2: 6\n",
            "Size of filtered itemsets for k = 2: 0\n",
            " \n",
            "Total number of frequent itemsets found = 4\n",
            " \n",
            "alpha = 0.7\n",
            "------------\n",
            "size of sampled database: 427\n",
            " \n",
            "minsup = 150\n",
            "Size of candidate itemsets for k = 1: 7448\n",
            "Size of filtered itemsets for k = 1: 8\n",
            " \n",
            "Size of candidate itemsets for k = 2: 28\n",
            "Size of filtered itemsets for k = 2: 0\n",
            " \n",
            "Total number of frequent itemsets found = 8\n",
            " \n",
            "alpha = 0.8\n",
            "------------\n",
            "size of sampled database: 488\n",
            " \n",
            "minsup = 150\n",
            "Size of candidate itemsets for k = 1: 7957\n",
            "Size of filtered itemsets for k = 1: 14\n",
            " \n",
            "Size of candidate itemsets for k = 2: 91\n",
            "Size of filtered itemsets for k = 2: 3\n",
            " \n",
            "Size of candidate itemsets for k = 3: 1\n",
            "Size of filtered itemsets for k = 3: 0\n",
            " \n",
            "Total number of frequent itemsets found = 17\n",
            " \n",
            "alpha = 0.9\n",
            "------------\n",
            "size of sampled database: 549\n",
            " \n",
            "minsup = 150\n",
            "Size of candidate itemsets for k = 1: 8232\n",
            "Size of filtered itemsets for k = 1: 30\n",
            " \n",
            "Size of candidate itemsets for k = 2: 435\n",
            "Size of filtered itemsets for k = 2: 10\n",
            " \n",
            "Size of candidate itemsets for k = 3: 13\n",
            "Size of filtered itemsets for k = 3: 0\n",
            " \n",
            "Total number of frequent itemsets found = 40\n",
            " \n",
            "alpha = 1\n",
            "------------\n",
            "size of sampled database: 609\n",
            " \n",
            "minsup = 150\n",
            "Size of candidate itemsets for k = 1: 8452\n",
            "Size of filtered itemsets for k = 1: 37\n",
            " \n",
            "Size of candidate itemsets for k = 2: 666\n",
            "Size of filtered itemsets for k = 2: 30\n",
            " \n",
            "Size of candidate itemsets for k = 3: 87\n",
            "Size of filtered itemsets for k = 3: 2\n",
            " \n",
            "Size of candidate itemsets for k = 4: 1\n",
            "Size of filtered itemsets for k = 4: 0\n",
            " \n",
            "Total number of frequent itemsets found = 69\n",
            " \n"
          ]
        }
      ]
    },
    {
      "cell_type": "markdown",
      "source": [
        "Observations:\n",
        "1.   alpha is varied while keeping the minsup constant.\n",
        "2.   Reducing the dataset size alone (no change in minsup) by random sampling certainly reduces the number of frequent itemsets discovered.\n",
        "3.   As seen in the above results, the number of frequent itemsets increases with the increase in alpha. This is because more transactions are considered with higher value of alpha which increases the likelihood of finding a frequent itemset.\n",
        "\n"
      ],
      "metadata": {
        "id": "rIBMkM-W-8Tn"
      }
    },
    {
      "cell_type": "markdown",
      "source": [
        "### (10pts) Step 4: Check for False Positives\n",
        "\n",
        "Next you should verify that the candidate pairs you discover by random sampling are truly frequent by comparing to the itemsets you discover over the entire dataset. \n",
        "\n",
        "For this part, consider another parameter **minsup_sample** that relaxes the minimum support threshold. For example if we want minsup = 1/100 for whole dataset, then try minsup_sample = 1/125 for the sample. This will help catch truly frequent itemsets.\n",
        "\n",
        "Vary **minsup_sample** and report the number of frequent itemsets you find and the number of false positives you find. What do you discover?\n"
      ],
      "metadata": {
        "id": "wLNDiFDrI2-2"
      }
    },
    {
      "cell_type": "code",
      "source": [
        "# your code here\n",
        "\n",
        "alpha_list = [0.1, 0.2, 0.3, 0.4, 0.5, 0.6, 0.7, 0.8, 0.9] \n",
        "relax_factor_list = [0.8]\n",
        "\n",
        "original_txs_list = txs_list\n",
        "original_freq_itemsets = final_itemsets\n",
        "\n",
        "minsup_orignal = 150\n",
        "get_random_sampled_freq_itemsets(original_txs_list, original_freq_itemsets, alpha_list, relax_factor_list, minsup_orignal, True, True )"
      ],
      "metadata": {
        "id": "R8gtIPuf_82B",
        "colab": {
          "base_uri": "https://localhost:8080/"
        },
        "outputId": "05403ee0-c09a-4090-b3f7-ec5c582e0776"
      },
      "execution_count": 175,
      "outputs": [
        {
          "output_type": "stream",
          "name": "stdout",
          "text": [
            "alpha = 0.1\n",
            "------------\n",
            "size of sampled database: 61\n",
            " \n",
            "minsup = 150\n",
            "relax_factor = 0.8\n",
            "minsup_sampled = 12.0\n",
            " \n",
            "Size of candidate itemsets for k = 1: 3502\n",
            "Size of filtered itemsets for k = 1: 79\n",
            " \n",
            "Size of candidate itemsets for k = 2: 3081\n",
            "Size of filtered itemsets for k = 2: 157\n",
            " \n",
            "Size of candidate itemsets for k = 3: 1470\n",
            "Size of filtered itemsets for k = 3: 57\n",
            " \n",
            "Size of candidate itemsets for k = 4: 178\n",
            "Size of filtered itemsets for k = 4: 8\n",
            " \n",
            "Size of candidate itemsets for k = 5: 7\n",
            "Size of filtered itemsets for k = 5: 0\n",
            " \n",
            "Total number of frequent itemsets found = 301\n",
            "False positive count in itemsets of length k:1 = 42\n",
            "False positive count in itemsets of length k:2 = 131\n",
            "False positive count in itemsets of length k:3 = 55\n",
            "False positive count in itemsets of length k:4 = 8\n",
            "Total number of false positives found = 236\n",
            " \n",
            "alpha = 0.2\n",
            "------------\n",
            "size of sampled database: 122\n",
            " \n",
            "minsup = 150\n",
            "relax_factor = 0.8\n",
            "minsup_sampled = 24.0\n",
            " \n",
            "Size of candidate itemsets for k = 1: 4985\n",
            "Size of filtered itemsets for k = 1: 66\n",
            " \n",
            "Size of candidate itemsets for k = 2: 2145\n",
            "Size of filtered itemsets for k = 2: 103\n",
            " \n",
            "Size of candidate itemsets for k = 3: 763\n",
            "Size of filtered itemsets for k = 3: 28\n",
            " \n",
            "Size of candidate itemsets for k = 4: 42\n",
            "Size of filtered itemsets for k = 4: 2\n",
            " \n",
            "Size of candidate itemsets for k = 5: 0\n",
            " \n",
            "Total number of frequent itemsets found = 199\n",
            "False positive count in itemsets of length k:1 = 29\n",
            "False positive count in itemsets of length k:2 = 74\n",
            "False positive count in itemsets of length k:3 = 26\n",
            "False positive count in itemsets of length k:4 = 2\n",
            "Total number of false positives found = 131\n",
            " \n",
            "alpha = 0.3\n",
            "------------\n",
            "size of sampled database: 183\n",
            " \n",
            "minsup = 150\n",
            "relax_factor = 0.8\n",
            "minsup_sampled = 36.0\n",
            " \n",
            "Size of candidate itemsets for k = 1: 5899\n",
            "Size of filtered itemsets for k = 1: 98\n",
            " \n",
            "Size of candidate itemsets for k = 2: 4753\n",
            "Size of filtered itemsets for k = 2: 338\n",
            " \n",
            "Size of candidate itemsets for k = 3: 4905\n",
            "Size of filtered itemsets for k = 3: 250\n",
            " \n",
            "Size of candidate itemsets for k = 4: 1457\n",
            "Size of filtered itemsets for k = 4: 55\n",
            " \n",
            "Size of candidate itemsets for k = 5: 130\n",
            "Size of filtered itemsets for k = 5: 2\n",
            " \n",
            "Size of candidate itemsets for k = 6: 1\n",
            "Size of filtered itemsets for k = 6: 0\n",
            " \n",
            "Total number of frequent itemsets found = 743\n",
            "False positive count in itemsets of length k:1 = 61\n",
            "False positive count in itemsets of length k:2 = 308\n",
            "False positive count in itemsets of length k:3 = 248\n",
            "False positive count in itemsets of length k:4 = 55\n",
            "False positive count in itemsets of length k:5 = 2\n",
            "Total number of false positives found = 674\n",
            " \n",
            "alpha = 0.4\n",
            "------------\n",
            "size of sampled database: 244\n",
            " \n",
            "minsup = 150\n",
            "relax_factor = 0.8\n",
            "minsup_sampled = 48.0\n",
            " \n",
            "Size of candidate itemsets for k = 1: 5723\n",
            "Size of filtered itemsets for k = 1: 68\n",
            " \n",
            "Size of candidate itemsets for k = 2: 2278\n",
            "Size of filtered itemsets for k = 2: 126\n",
            " \n",
            "Size of candidate itemsets for k = 3: 1125\n",
            "Size of filtered itemsets for k = 3: 35\n",
            " \n",
            "Size of candidate itemsets for k = 4: 74\n",
            "Size of filtered itemsets for k = 4: 5\n",
            " \n",
            "Size of candidate itemsets for k = 5: 2\n",
            "Size of filtered itemsets for k = 5: 0\n",
            " \n",
            "Total number of frequent itemsets found = 234\n",
            "False positive count in itemsets of length k:1 = 31\n",
            "False positive count in itemsets of length k:2 = 96\n",
            "False positive count in itemsets of length k:3 = 33\n",
            "False positive count in itemsets of length k:4 = 5\n",
            "Total number of false positives found = 165\n",
            " \n",
            "alpha = 0.5\n",
            "------------\n",
            "size of sampled database: 305\n",
            " \n",
            "minsup = 150\n",
            "relax_factor = 0.8\n",
            "minsup_sampled = 60.0\n",
            " \n",
            "Size of candidate itemsets for k = 1: 6545\n",
            "Size of filtered itemsets for k = 1: 64\n",
            " \n",
            "Size of candidate itemsets for k = 2: 2016\n",
            "Size of filtered itemsets for k = 2: 118\n",
            " \n",
            "Size of candidate itemsets for k = 3: 1037\n",
            "Size of filtered itemsets for k = 3: 39\n",
            " \n",
            "Size of candidate itemsets for k = 4: 73\n",
            "Size of filtered itemsets for k = 4: 4\n",
            " \n",
            "Size of candidate itemsets for k = 5: 1\n",
            "Size of filtered itemsets for k = 5: 0\n",
            " \n",
            "Total number of frequent itemsets found = 225\n",
            "False positive count in itemsets of length k:1 = 27\n",
            "False positive count in itemsets of length k:2 = 88\n",
            "False positive count in itemsets of length k:3 = 37\n",
            "False positive count in itemsets of length k:4 = 4\n",
            "Total number of false positives found = 156\n",
            " \n",
            "alpha = 0.6\n",
            "------------\n",
            "size of sampled database: 366\n",
            " \n",
            "minsup = 150\n",
            "relax_factor = 0.8\n",
            "minsup_sampled = 72.0\n",
            " \n",
            "Size of candidate itemsets for k = 1: 7197\n",
            "Size of filtered itemsets for k = 1: 67\n",
            " \n",
            "Size of candidate itemsets for k = 2: 2211\n",
            "Size of filtered itemsets for k = 2: 145\n",
            " \n",
            "Size of candidate itemsets for k = 3: 1467\n",
            "Size of filtered itemsets for k = 3: 54\n",
            " \n",
            "Size of candidate itemsets for k = 4: 134\n",
            "Size of filtered itemsets for k = 4: 2\n",
            " \n",
            "Size of candidate itemsets for k = 5: 0\n",
            " \n",
            "Total number of frequent itemsets found = 268\n",
            "False positive count in itemsets of length k:1 = 30\n",
            "False positive count in itemsets of length k:2 = 115\n",
            "False positive count in itemsets of length k:3 = 52\n",
            "False positive count in itemsets of length k:4 = 2\n",
            "Total number of false positives found = 199\n",
            " \n",
            "alpha = 0.7\n",
            "------------\n",
            "size of sampled database: 427\n",
            " \n",
            "minsup = 150\n",
            "relax_factor = 0.8\n",
            "minsup_sampled = 84.0\n",
            " \n",
            "Size of candidate itemsets for k = 1: 7350\n",
            "Size of filtered itemsets for k = 1: 67\n",
            " \n",
            "Size of candidate itemsets for k = 2: 2211\n",
            "Size of filtered itemsets for k = 2: 131\n",
            " \n",
            "Size of candidate itemsets for k = 3: 1297\n",
            "Size of filtered itemsets for k = 3: 46\n",
            " \n",
            "Size of candidate itemsets for k = 4: 93\n",
            "Size of filtered itemsets for k = 4: 2\n",
            " \n",
            "Size of candidate itemsets for k = 5: 0\n",
            " \n",
            "Total number of frequent itemsets found = 246\n",
            "False positive count in itemsets of length k:1 = 30\n",
            "False positive count in itemsets of length k:2 = 101\n",
            "False positive count in itemsets of length k:3 = 44\n",
            "False positive count in itemsets of length k:4 = 2\n",
            "Total number of false positives found = 177\n",
            " \n",
            "alpha = 0.8\n",
            "------------\n",
            "size of sampled database: 488\n",
            " \n",
            "minsup = 150\n",
            "relax_factor = 0.8\n",
            "minsup_sampled = 96.0\n",
            " \n",
            "Size of candidate itemsets for k = 1: 7837\n",
            "Size of filtered itemsets for k = 1: 60\n",
            " \n",
            "Size of candidate itemsets for k = 2: 1770\n",
            "Size of filtered itemsets for k = 2: 109\n",
            " \n",
            "Size of candidate itemsets for k = 3: 901\n",
            "Size of filtered itemsets for k = 3: 28\n",
            " \n",
            "Size of candidate itemsets for k = 4: 51\n",
            "Size of filtered itemsets for k = 4: 0\n",
            " \n",
            "Total number of frequent itemsets found = 197\n",
            "False positive count in itemsets of length k:1 = 23\n",
            "False positive count in itemsets of length k:2 = 79\n",
            "False positive count in itemsets of length k:3 = 26\n",
            "Total number of false positives found = 128\n",
            " \n",
            "alpha = 0.9\n",
            "------------\n",
            "size of sampled database: 549\n",
            " \n",
            "minsup = 150\n",
            "relax_factor = 0.8\n",
            "minsup_sampled = 108.0\n",
            " \n",
            "Size of candidate itemsets for k = 1: 8290\n",
            "Size of filtered itemsets for k = 1: 68\n",
            " \n",
            "Size of candidate itemsets for k = 2: 2278\n",
            "Size of filtered itemsets for k = 2: 122\n",
            " \n",
            "Size of candidate itemsets for k = 3: 1056\n",
            "Size of filtered itemsets for k = 3: 38\n",
            " \n",
            "Size of candidate itemsets for k = 4: 73\n",
            "Size of filtered itemsets for k = 4: 1\n",
            " \n",
            "Total number of frequent itemsets found = 229\n",
            "False positive count in itemsets of length k:1 = 31\n",
            "False positive count in itemsets of length k:2 = 92\n",
            "False positive count in itemsets of length k:3 = 36\n",
            "False positive count in itemsets of length k:4 = 1\n",
            "Total number of false positives found = 160\n",
            " \n"
          ]
        }
      ]
    },
    {
      "cell_type": "markdown",
      "source": [
        "Observations:\n",
        "\n",
        "*   In the above code, minsup is scaled proportionately in accordance with the random sampling factor (alpha)\n",
        "*   The minsup is additionally scaled by a relaxation factor, set to 0.8\n",
        "*   Reducing the dataset size alone (no change in minsup) by random sampling certainly reduces the number of frequent itemsets discovered as seen in the previous part.\n",
        "*   Scaling the minsup along with random sampling gives more frequent itemsets.\n",
        "*   Many of the frequent itemsets found this way have low frequency in the original dataset and hence do not qualify as frequent itemsets. These are marked as false positives.\n",
        "\n",
        "\n"
      ],
      "metadata": {
        "id": "tgpWjmXh_91h"
      }
    },
    {
      "cell_type": "markdown",
      "source": [
        "### (5pts) Step 5: Extensions and Next Steps\n",
        "\n",
        "So far, we have been working with a fairly small dataset. For this last question, try your sampling-based approach on the much larger: **Movies 10M** dataset: https://files.grouplens.org/datasets/movielens/ml-10m.zip\n",
        "\n",
        "First, we need to load this larger dataset:"
      ],
      "metadata": {
        "id": "Wt4JCrwcAHal"
      }
    },
    {
      "cell_type": "code",
      "source": [
        "import urllib3\n",
        "import zipfile\n",
        "\n",
        "http = urllib3.PoolManager()\n",
        "req = http.request(\"GET\", \"https://files.grouplens.org/datasets/movielens/ml-10m.zip\", preload_content=False)\n",
        "\n",
        "with open(\"movie.zip\", 'wb') as out:\n",
        "  while True:\n",
        "    data = req.read(4096)\n",
        "    if not data:\n",
        "      break\n",
        "    out.write(data)\n",
        "req.release_conn()\n",
        "\n",
        "zFile = zipfile.ZipFile(\"movie.zip\", \"r\")\n",
        "for fileM in zFile.namelist():\n",
        "  zFile.extract(fileM)"
      ],
      "metadata": {
        "id": "iG7qBkj7AVou",
        "colab": {
          "base_uri": "https://localhost:8080/"
        },
        "outputId": "7a07dbdc-e335-4812-f7a7-3563e1e4625e"
      },
      "execution_count": 156,
      "outputs": [
        {
          "output_type": "stream",
          "name": "stderr",
          "text": [
            "/usr/local/lib/python3.7/dist-packages/urllib3/connectionpool.py:847: InsecureRequestWarning: Unverified HTTPS request is being made. Adding certificate verification is strongly advised. See: https://urllib3.readthedocs.io/en/latest/advanced-usage.html#ssl-warnings\n",
            "  InsecureRequestWarning)\n"
          ]
        }
      ]
    },
    {
      "cell_type": "code",
      "source": [
        "! ls ml-10M100K/"
      ],
      "metadata": {
        "id": "6Hi45CqJht7n",
        "colab": {
          "base_uri": "https://localhost:8080/"
        },
        "outputId": "9b26d5f8-44b5-4c74-d409-7caa82a0541b"
      },
      "execution_count": 157,
      "outputs": [
        {
          "output_type": "stream",
          "name": "stdout",
          "text": [
            "allbut.pl  movies.dat  ratings.dat  README.html  split_ratings.sh  tags.dat\n"
          ]
        }
      ]
    },
    {
      "cell_type": "code",
      "source": [
        "import pandas as pd\n",
        "# read user ratings\n",
        "allRatings = pd.read_csv(\"ml-10M100K/ratings.dat\",sep='::', names=[\"userId\", \"movieId\", \"rating\", \"timestamp\"], engine='python')\n",
        "allRatings"
      ],
      "metadata": {
        "id": "V_jdR72WiR2F",
        "colab": {
          "base_uri": "https://localhost:8080/",
          "height": 424
        },
        "outputId": "45ed5de0-8c59-4711-904f-349c7e0dfbd8"
      },
      "execution_count": 158,
      "outputs": [
        {
          "output_type": "execute_result",
          "data": {
            "text/html": [
              "\n",
              "  <div id=\"df-e03f25f5-ef07-4711-a241-c8b1dca24abe\">\n",
              "    <div class=\"colab-df-container\">\n",
              "      <div>\n",
              "<style scoped>\n",
              "    .dataframe tbody tr th:only-of-type {\n",
              "        vertical-align: middle;\n",
              "    }\n",
              "\n",
              "    .dataframe tbody tr th {\n",
              "        vertical-align: top;\n",
              "    }\n",
              "\n",
              "    .dataframe thead th {\n",
              "        text-align: right;\n",
              "    }\n",
              "</style>\n",
              "<table border=\"1\" class=\"dataframe\">\n",
              "  <thead>\n",
              "    <tr style=\"text-align: right;\">\n",
              "      <th></th>\n",
              "      <th>userId</th>\n",
              "      <th>movieId</th>\n",
              "      <th>rating</th>\n",
              "      <th>timestamp</th>\n",
              "    </tr>\n",
              "  </thead>\n",
              "  <tbody>\n",
              "    <tr>\n",
              "      <th>0</th>\n",
              "      <td>1</td>\n",
              "      <td>122</td>\n",
              "      <td>5.0</td>\n",
              "      <td>838985046</td>\n",
              "    </tr>\n",
              "    <tr>\n",
              "      <th>1</th>\n",
              "      <td>1</td>\n",
              "      <td>185</td>\n",
              "      <td>5.0</td>\n",
              "      <td>838983525</td>\n",
              "    </tr>\n",
              "    <tr>\n",
              "      <th>2</th>\n",
              "      <td>1</td>\n",
              "      <td>231</td>\n",
              "      <td>5.0</td>\n",
              "      <td>838983392</td>\n",
              "    </tr>\n",
              "    <tr>\n",
              "      <th>3</th>\n",
              "      <td>1</td>\n",
              "      <td>292</td>\n",
              "      <td>5.0</td>\n",
              "      <td>838983421</td>\n",
              "    </tr>\n",
              "    <tr>\n",
              "      <th>4</th>\n",
              "      <td>1</td>\n",
              "      <td>316</td>\n",
              "      <td>5.0</td>\n",
              "      <td>838983392</td>\n",
              "    </tr>\n",
              "    <tr>\n",
              "      <th>...</th>\n",
              "      <td>...</td>\n",
              "      <td>...</td>\n",
              "      <td>...</td>\n",
              "      <td>...</td>\n",
              "    </tr>\n",
              "    <tr>\n",
              "      <th>10000049</th>\n",
              "      <td>71567</td>\n",
              "      <td>2107</td>\n",
              "      <td>1.0</td>\n",
              "      <td>912580553</td>\n",
              "    </tr>\n",
              "    <tr>\n",
              "      <th>10000050</th>\n",
              "      <td>71567</td>\n",
              "      <td>2126</td>\n",
              "      <td>2.0</td>\n",
              "      <td>912649143</td>\n",
              "    </tr>\n",
              "    <tr>\n",
              "      <th>10000051</th>\n",
              "      <td>71567</td>\n",
              "      <td>2294</td>\n",
              "      <td>5.0</td>\n",
              "      <td>912577968</td>\n",
              "    </tr>\n",
              "    <tr>\n",
              "      <th>10000052</th>\n",
              "      <td>71567</td>\n",
              "      <td>2338</td>\n",
              "      <td>2.0</td>\n",
              "      <td>912578016</td>\n",
              "    </tr>\n",
              "    <tr>\n",
              "      <th>10000053</th>\n",
              "      <td>71567</td>\n",
              "      <td>2384</td>\n",
              "      <td>2.0</td>\n",
              "      <td>912578173</td>\n",
              "    </tr>\n",
              "  </tbody>\n",
              "</table>\n",
              "<p>10000054 rows × 4 columns</p>\n",
              "</div>\n",
              "      <button class=\"colab-df-convert\" onclick=\"convertToInteractive('df-e03f25f5-ef07-4711-a241-c8b1dca24abe')\"\n",
              "              title=\"Convert this dataframe to an interactive table.\"\n",
              "              style=\"display:none;\">\n",
              "        \n",
              "  <svg xmlns=\"http://www.w3.org/2000/svg\" height=\"24px\"viewBox=\"0 0 24 24\"\n",
              "       width=\"24px\">\n",
              "    <path d=\"M0 0h24v24H0V0z\" fill=\"none\"/>\n",
              "    <path d=\"M18.56 5.44l.94 2.06.94-2.06 2.06-.94-2.06-.94-.94-2.06-.94 2.06-2.06.94zm-11 1L8.5 8.5l.94-2.06 2.06-.94-2.06-.94L8.5 2.5l-.94 2.06-2.06.94zm10 10l.94 2.06.94-2.06 2.06-.94-2.06-.94-.94-2.06-.94 2.06-2.06.94z\"/><path d=\"M17.41 7.96l-1.37-1.37c-.4-.4-.92-.59-1.43-.59-.52 0-1.04.2-1.43.59L10.3 9.45l-7.72 7.72c-.78.78-.78 2.05 0 2.83L4 21.41c.39.39.9.59 1.41.59.51 0 1.02-.2 1.41-.59l7.78-7.78 2.81-2.81c.8-.78.8-2.07 0-2.86zM5.41 20L4 18.59l7.72-7.72 1.47 1.35L5.41 20z\"/>\n",
              "  </svg>\n",
              "      </button>\n",
              "      \n",
              "  <style>\n",
              "    .colab-df-container {\n",
              "      display:flex;\n",
              "      flex-wrap:wrap;\n",
              "      gap: 12px;\n",
              "    }\n",
              "\n",
              "    .colab-df-convert {\n",
              "      background-color: #E8F0FE;\n",
              "      border: none;\n",
              "      border-radius: 50%;\n",
              "      cursor: pointer;\n",
              "      display: none;\n",
              "      fill: #1967D2;\n",
              "      height: 32px;\n",
              "      padding: 0 0 0 0;\n",
              "      width: 32px;\n",
              "    }\n",
              "\n",
              "    .colab-df-convert:hover {\n",
              "      background-color: #E2EBFA;\n",
              "      box-shadow: 0px 1px 2px rgba(60, 64, 67, 0.3), 0px 1px 3px 1px rgba(60, 64, 67, 0.15);\n",
              "      fill: #174EA6;\n",
              "    }\n",
              "\n",
              "    [theme=dark] .colab-df-convert {\n",
              "      background-color: #3B4455;\n",
              "      fill: #D2E3FC;\n",
              "    }\n",
              "\n",
              "    [theme=dark] .colab-df-convert:hover {\n",
              "      background-color: #434B5C;\n",
              "      box-shadow: 0px 1px 3px 1px rgba(0, 0, 0, 0.15);\n",
              "      filter: drop-shadow(0px 1px 2px rgba(0, 0, 0, 0.3));\n",
              "      fill: #FFFFFF;\n",
              "    }\n",
              "  </style>\n",
              "\n",
              "      <script>\n",
              "        const buttonEl =\n",
              "          document.querySelector('#df-e03f25f5-ef07-4711-a241-c8b1dca24abe button.colab-df-convert');\n",
              "        buttonEl.style.display =\n",
              "          google.colab.kernel.accessAllowed ? 'block' : 'none';\n",
              "\n",
              "        async function convertToInteractive(key) {\n",
              "          const element = document.querySelector('#df-e03f25f5-ef07-4711-a241-c8b1dca24abe');\n",
              "          const dataTable =\n",
              "            await google.colab.kernel.invokeFunction('convertToInteractive',\n",
              "                                                     [key], {});\n",
              "          if (!dataTable) return;\n",
              "\n",
              "          const docLinkHtml = 'Like what you see? Visit the ' +\n",
              "            '<a target=\"_blank\" href=https://colab.research.google.com/notebooks/data_table.ipynb>data table notebook</a>'\n",
              "            + ' to learn more about interactive tables.';\n",
              "          element.innerHTML = '';\n",
              "          dataTable['output_type'] = 'display_data';\n",
              "          await google.colab.output.renderOutput(dataTable, element);\n",
              "          const docLink = document.createElement('div');\n",
              "          docLink.innerHTML = docLinkHtml;\n",
              "          element.appendChild(docLink);\n",
              "        }\n",
              "      </script>\n",
              "    </div>\n",
              "  </div>\n",
              "  "
            ],
            "text/plain": [
              "          userId  movieId  rating  timestamp\n",
              "0              1      122     5.0  838985046\n",
              "1              1      185     5.0  838983525\n",
              "2              1      231     5.0  838983392\n",
              "3              1      292     5.0  838983421\n",
              "4              1      316     5.0  838983392\n",
              "...          ...      ...     ...        ...\n",
              "10000049   71567     2107     1.0  912580553\n",
              "10000050   71567     2126     2.0  912649143\n",
              "10000051   71567     2294     5.0  912577968\n",
              "10000052   71567     2338     2.0  912578016\n",
              "10000053   71567     2384     2.0  912578173\n",
              "\n",
              "[10000054 rows x 4 columns]"
            ]
          },
          "metadata": {},
          "execution_count": 158
        }
      ]
    },
    {
      "cell_type": "markdown",
      "source": [
        "Now you can begin your sampling over this larger dataset."
      ],
      "metadata": {
        "id": "WEX9wu7ewIqb"
      }
    },
    {
      "cell_type": "code",
      "source": [
        "# your code here\n",
        "from collections import defaultdict\n",
        "\n",
        "#keep reviews with ratings >=3 only\n",
        "ratings_new = allRatings[allRatings['rating']>=3]\n",
        "\n",
        "#initial itemset is the set of singleton movie ids\n",
        "ratings_new = ratings_new.groupby('userId')\n",
        "initial_candidate_list = set() #set having individual movies as sets\n",
        "txs_list = [] #database of transactions\n",
        "for userId, data in ratings_new:\n",
        "  txs_list.append(frozenset(data['movieId']))\n",
        "  for movie in data['movieId']:\n",
        "    initial_candidate_list.add(frozenset([movie]))"
      ],
      "metadata": {
        "id": "VYRlIEyulq2X"
      },
      "execution_count": 159,
      "outputs": []
    },
    {
      "cell_type": "code",
      "source": [
        "print(len(txs_list))"
      ],
      "metadata": {
        "colab": {
          "base_uri": "https://localhost:8080/"
        },
        "id": "2HhNMOouA_qP",
        "outputId": "17aa947c-c04e-479e-fde3-084b36203e4c"
      },
      "execution_count": 142,
      "outputs": [
        {
          "output_type": "stream",
          "name": "stdout",
          "text": [
            "69863\n"
          ]
        }
      ]
    },
    {
      "cell_type": "code",
      "source": [
        "alpha_list = [0.1]\n",
        "relax_factor_list = [0.8]\n",
        "original_txs_list = txs_list\n",
        "original_freq_itemsets = None\n",
        "\n",
        "minsup = 15000  # in the small movies data set, #transactions was around 600 and minsup was taken as 150. So choosing 15000 as minsup in the same proportion\n",
        "get_random_sampled_freq_itemsets(original_txs_list, original_freq_itemsets, alpha_list, relax_factor_list, minsup,True, False )"
      ],
      "metadata": {
        "colab": {
          "base_uri": "https://localhost:8080/"
        },
        "id": "oryVlMBD5CPq",
        "outputId": "c57addcb-07d8-48e8-bdee-e5145f444e30"
      },
      "execution_count": 163,
      "outputs": [
        {
          "output_type": "stream",
          "name": "stdout",
          "text": [
            "alpha = 0.1\n",
            "------------\n",
            "size of sampled database: 6987\n",
            " \n",
            "minsup = 15000\n",
            "relax_factor = 0.8\n",
            "minsup_sampled = 1200.0\n",
            " \n",
            "Size of candidate itemsets for k = 1: 9583\n",
            "Size of filtered itemsets for k = 1: 94\n",
            " \n",
            "Size of candidate itemsets for k = 2: 4371\n",
            "Size of filtered itemsets for k = 2: 293\n",
            " \n",
            "Size of candidate itemsets for k = 3: 3324\n",
            "Size of filtered itemsets for k = 3: 223\n",
            " \n",
            "Size of candidate itemsets for k = 4: 871\n",
            "Size of filtered itemsets for k = 4: 28\n",
            " \n",
            "Size of candidate itemsets for k = 5: 60\n",
            "Size of filtered itemsets for k = 5: 0\n",
            " \n",
            "Total number of frequent itemsets found = 638\n",
            " \n"
          ]
        }
      ]
    },
    {
      "cell_type": "markdown",
      "source": [
        "\n",
        "*   I have set the minsup to 15000 (proportionate to the previous case).\n",
        "*   10% of the total samples are considered for analysis. Further, the minsup is scaled by 0.1 to account for the sampling and further relaxed by scaling by 0.8. This effectively makes the minsup as 1200.\n",
        "*   The total number of frequent itemsets discovered are 638.\n",
        "\n"
      ],
      "metadata": {
        "id": "FX3LDkfAlpyg"
      }
    }
  ]
}